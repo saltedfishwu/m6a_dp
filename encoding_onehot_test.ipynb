{
 "cells": [
  {
   "cell_type": "code",
   "execution_count": 1,
   "outputs": [
    {
     "name": "stderr",
     "output_type": "stream",
     "text": [
      "Using TensorFlow backend.\n"
     ]
    }
   ],
   "source": [
    "# To pkeras_model=None training, we import the necessary functions and submodules from keras\n",
    "import pandas as pd\n",
    "import numpy as np\n",
    "from keras.models import Sequential\n",
    "from keras.layers.core import Dropout, Reshape, Dense, Activation, Flatten\n",
    "from keras.layers.convolutional import Conv1D, MaxPooling1D\n",
    "from keras.optimizers import Adadelta, SGD, RMSprop;\n",
    "import keras.losses;\n",
    "from keras.constraints import maxnorm;\n",
    "from keras.utils import normalize, to_categorical\n",
    "from keras.layers.normalization import BatchNormalization\n",
    "from keras import regularizers\n",
    "from keras.callbacks import EarlyStopping, History, ModelCheckpoint\n",
    "from keras import backend as K\n",
    "\n",
    "import matplotlib.pyplot as plt\n",
    "from matplotlib import pyplot\n",
    "from sklearn.metrics import precision_score, recall_score, accuracy_score, f1_score, precision_recall_curve, auc"
   ],
   "metadata": {
    "collapsed": false,
    "pycharm": {
     "name": "#%%\n"
    }
   }
  },
  {
   "cell_type": "code",
   "execution_count": 4,
   "outputs": [
    {
     "name": "stdout",
     "output_type": "stream",
     "text": [
      "      Unnamed: 0   num  V1.x  V2.x  V3.x  V4.x  V5.x  V6.x  V7.x  V8.x  ...  \\\n",
      "0              1     1     0     1     0     0     1     0     0     0  ...   \n",
      "1              2     2     1     0     0     0     1     0     0     0  ...   \n",
      "2              3     3     0     1     0     0     1     0     0     0  ...   \n",
      "3              4     4     0     1     0     0     1     0     0     0  ...   \n",
      "4              5     5     0     0     1     0     0     0     1     0  ...   \n",
      "...          ...   ...   ...   ...   ...   ...   ...   ...   ...   ...  ...   \n",
      "1417        1418  1418     0     0     1     0     0     0     1     0  ...   \n",
      "1418        1419  1419     0     1     0     0     0     0     1     0  ...   \n",
      "1419        1420  1420     0     0     0     1     0     1     0     0  ...   \n",
      "1420        1421  1421     0     0     1     0     0     0     1     0  ...   \n",
      "1421        1422  1422     0     0     1     0     0     0     1     0  ...   \n",
      "\n",
      "      V156.y.9  V157.y.9  V158.y.9  V159.y.9  V160.y.9  V161.y.9  V162.y.9  \\\n",
      "0          0.0       1.0       0.0       0.0       0.0       1.0       0.0   \n",
      "1          0.0       1.0       0.0       0.0       0.0       1.0       0.0   \n",
      "2          0.0       0.0       0.0       0.0       1.0       1.0       0.0   \n",
      "3          1.0       0.0       0.0       0.0       1.0       0.0       0.0   \n",
      "4          0.0       1.0       0.0       0.0       0.0       0.0       0.0   \n",
      "...        ...       ...       ...       ...       ...       ...       ...   \n",
      "1417       NaN       NaN       NaN       NaN       NaN       NaN       NaN   \n",
      "1418       NaN       NaN       NaN       NaN       NaN       NaN       NaN   \n",
      "1419       NaN       NaN       NaN       NaN       NaN       NaN       NaN   \n",
      "1420       NaN       NaN       NaN       NaN       NaN       NaN       NaN   \n",
      "1421       NaN       NaN       NaN       NaN       NaN       NaN       NaN   \n",
      "\n",
      "      V163.y.9  V164.y.9  class.y.9  \n",
      "0          0.0       0.0        Neg  \n",
      "1          0.0       0.0        Neg  \n",
      "2          0.0       0.0        Neg  \n",
      "3          0.0       1.0        Neg  \n",
      "4          0.0       1.0        Neg  \n",
      "...        ...       ...        ...  \n",
      "1417       NaN       NaN        NaN  \n",
      "1418       NaN       NaN        NaN  \n",
      "1419       NaN       NaN        NaN  \n",
      "1420       NaN       NaN        NaN  \n",
      "1421       NaN       NaN        NaN  \n",
      "\n",
      "[1422 rows x 3311 columns]\n"
     ]
    },
    {
     "name": "stderr",
     "output_type": "stream",
     "text": [
      "/anaconda3/envs/DL/lib/python3.7/site-packages/IPython/core/interactiveshell.py:3063: DtypeWarning: Columns (331,662,993,1324,1655,1986,2317,2648,2979,3310) have mixed types.Specify dtype option on import or set low_memory=False.\n",
      "  interactivity=interactivity, compiler=compiler, result=result)\n"
     ]
    },
    {
     "data": {
      "text/plain": "(1422, 3311)"
     },
     "execution_count": 4,
     "metadata": {},
     "output_type": "execute_result"
    }
   ],
   "source": [
    "    import pandas as pd\n",
    "    import numpy as np\n",
    "    df = pd.read_csv(\"eif3a_full_test.csv\")\n",
    "    print(df)\n",
    "    df.shape"
   ],
   "metadata": {
    "collapsed": false,
    "pycharm": {
     "name": "#%%\n"
    }
   }
  },
  {
   "cell_type": "code",
   "execution_count": null,
   "outputs": [],
   "source": [
    "    train_All_1 = df.iloc[:, 2:167]\n",
    "    # train_All_1\n",
    "    test_all_1 = df.iloc[0:90, 167:332]\n",
    "    # test_all_1\n",
    "\n",
    "    y_train = df.iloc[:,166:167]\n",
    "    y_test = df.iloc[0:90,331:332]\n",
    "    x_train = train_All_1.iloc[:,:-1]\n",
    "    x_test = test_all_1.iloc[:,:-1]\n",
    "    # print(y_train)\n",
    "    # print(y_test)\n",
    "    # print(train_All_1)\n",
    "    # print(test_all_1)\n",
    "    # print(x_train)"
   ],
   "metadata": {
    "collapsed": false,
    "pycharm": {
     "name": "#%%\n"
    }
   }
  },
  {
   "cell_type": "code",
   "execution_count": 135,
   "outputs": [],
   "source": [
    "round = int(len(x_train.columns)/4)\n",
    "lst = []\n",
    "for i in range(round):\n",
    "    x = x_train.iloc[:,(4*i):(4*i+4)]\n",
    "    lst.append(x)\n",
    "ls=[]\n",
    "for j in range(round):\n",
    "    x = lst[j]\n",
    "    y = np.array(x).tolist()\n",
    "    ls.append(y)\n",
    "test = np.array(ls)\n",
    "test=np.swapaxes(test,axis1=0,axis2=1)"
   ],
   "metadata": {
    "collapsed": false,
    "pycharm": {
     "name": "#%%\n"
    }
   }
  },
  {
   "cell_type": "code",
   "execution_count": 136,
   "outputs": [
    {
     "name": "stdout",
     "output_type": "stream",
     "text": [
      "(90, 41, 4)\n"
     ]
    }
   ],
   "source": [
    "round2 = int(len(x_test.columns) / 4)\n",
    "lst2 = []\n",
    "for i in range(round2):\n",
    "    x = x_test.iloc[:, (4 * i):(4 * i + 4)]\n",
    "    lst2.append(x)\n",
    "ls2 = []\n",
    "for j in range(round2):\n",
    "    x = lst2[j]\n",
    "    y = np.array(x).tolist()\n",
    "    ls2.append(y)\n",
    "test2 = np.array(ls2)\n",
    "x_test = np.swapaxes(test2, axis1=0, axis2=1)\n",
    "print(x_test.shape)"
   ],
   "metadata": {
    "collapsed": false,
    "pycharm": {
     "name": "#%%\n"
    }
   }
  },
  {
   "cell_type": "code",
   "execution_count": 138,
   "outputs": [
    {
     "name": "stdout",
     "output_type": "stream",
     "text": [
      "(1422, 1)\n",
      "(90, 1)\n"
     ]
    }
   ],
   "source": [
    "print(y_train.shape)\n",
    "print(y_test.shape)"
   ],
   "metadata": {
    "collapsed": false,
    "pycharm": {
     "name": "#%%\n"
    }
   }
  },
  {
   "cell_type": "code",
   "execution_count": null,
   "outputs": [],
   "source": [
    "def precision(y_true, y_pred):\n",
    "    true_positives = K.sum(K.round(K.clip(y_true * y_pred, 0, 1)))\n",
    "    predicted_positives = K.sum(K.round(K.clip(y_pred, 0, 1)))\n",
    "    precision = true_positives / (predicted_positives + K.epsilon())\n",
    "    return precision\n",
    "\n",
    "\n",
    "def recall(y_true, y_pred):\n",
    "    true_positives = K.sum(K.round(K.clip(y_true * y_pred, 0, 1)))\n",
    "    possible_positives = K.sum(K.round(K.clip(y_true, 0, 1)))\n",
    "    recall = true_positives / (possible_positives + K.epsilon())\n",
    "    return recall"
   ],
   "metadata": {
    "collapsed": false,
    "pycharm": {
     "name": "#%%\n"
    }
   }
  },
  {
   "cell_type": "code",
   "execution_count": 14,
   "outputs": [
    {
     "name": "stdout",
     "output_type": "stream",
     "text": [
      "(165,)\n"
     ]
    }
   ],
   "source": [
    "print(x_train.shape[1::])"
   ],
   "metadata": {
    "collapsed": false,
    "pycharm": {
     "name": "#%%\n"
    }
   }
  },
  {
   "cell_type": "code",
   "execution_count": 15,
   "outputs": [],
   "source": [
    "def build_model(x_train):\n",
    "    one_filter_keras_model = Sequential()\n",
    "    one_filter_keras_model.add(\n",
    "        Conv1D(filters=90, kernel_size=5, padding=\"valid\", kernel_regularizer=regularizers.l2(0.01),\n",
    "               input_shape=x_train.shape))\n",
    "    one_filter_keras_model.add(Activation('relu'))\n",
    "    one_filter_keras_model.add(MaxPooling1D(pool_size=4, strides=2))\n",
    "    one_filter_keras_model.add(Dropout(0.25))\n",
    "\n",
    "    one_filter_keras_model.add(\n",
    "        Conv1D(filters=100, kernel_size=3, padding=\"valid\", kernel_regularizer=regularizers.l2(0.01)))\n",
    "    one_filter_keras_model.add(Activation('relu'))\n",
    "    one_filter_keras_model.add(MaxPooling1D(pool_size=10, strides=1))\n",
    "    one_filter_keras_model.add(Dropout(0.25))\n",
    "\n",
    "    one_filter_keras_model.add(Flatten())\n",
    "    one_filter_keras_model.add(Dense(1421))\n",
    "    one_filter_keras_model.add(Activation(\"relu\"))\n",
    "    one_filter_keras_model.add(Dense(1))\n",
    "    one_filter_keras_model.add(Activation(\"sigmoid\"))\n",
    "    one_filter_keras_model.summary()\n",
    "\n",
    "    adam = keras.optimizers.Adam(lr=0.01, beta_1=0.9, beta_2=0.999, epsilon=1e-08, decay=1e-6)\n",
    "    one_filter_keras_model.compile(loss='binary_crossentropy', optimizer='adam',\n",
    "                                   metrics=['accuracy', precision, recall])\n",
    "    return one_filter_keras_model"
   ],
   "metadata": {
    "collapsed": false,
    "pycharm": {
     "name": "#%%\n"
    }
   }
  },
  {
   "cell_type": "code",
   "execution_count": 141,
   "outputs": [],
   "source": [
    "def compileModel(model, x_train, x_test, y_test, y_train):\n",
    "    model = model\n",
    "    x_train = x_train\n",
    "    x_test = x_test\n",
    "    y_test = y_test\n",
    "    y_train = y_train\n",
    "    earlystop = EarlyStopping(monitor='val_loss',\n",
    "                              min_delta=0,\n",
    "                              patience=10,\n",
    "                              verbose=1)\n",
    "\n",
    "    filepath = \"weights.best.hdf5\"\n",
    "    checkpoint = ModelCheckpoint(filepath, monitor='val_accuracy', verbose=1, save_best_only=True, mode='max')\n",
    "    callbacks_list = [checkpoint, earlystop]\n",
    "\n",
    "    epoch = 2\n",
    "    batchsize = 128\n",
    "\n",
    "    history = model.fit(x_train, y_train, batch_size=batchsize, epochs=epoch,\n",
    "                        validation_data=(x_test, y_test),\n",
    "                        callbacks=callbacks_list)\n",
    "    return history"
   ],
   "metadata": {
    "collapsed": false,
    "pycharm": {
     "name": "#%%\n"
    }
   }
  },
  {
   "cell_type": "code",
   "execution_count": 139,
   "outputs": [
    {
     "name": "stdout",
     "output_type": "stream",
     "text": [
      "Model: \"sequential_3\"\n",
      "_________________________________________________________________\n",
      "Layer (type)                 Output Shape              Param #   \n",
      "=================================================================\n",
      "conv1d_4 (Conv1D)            (None, 1418, 90)          73890     \n",
      "_________________________________________________________________\n",
      "activation_5 (Activation)    (None, 1418, 90)          0         \n",
      "_________________________________________________________________\n",
      "max_pooling1d_3 (MaxPooling1 (None, 708, 90)           0         \n",
      "_________________________________________________________________\n",
      "dropout_3 (Dropout)          (None, 708, 90)           0         \n",
      "_________________________________________________________________\n",
      "conv1d_5 (Conv1D)            (None, 706, 100)          27100     \n",
      "_________________________________________________________________\n",
      "activation_6 (Activation)    (None, 706, 100)          0         \n",
      "_________________________________________________________________\n",
      "max_pooling1d_4 (MaxPooling1 (None, 697, 100)          0         \n",
      "_________________________________________________________________\n",
      "dropout_4 (Dropout)          (None, 697, 100)          0         \n",
      "_________________________________________________________________\n",
      "flatten_2 (Flatten)          (None, 69700)             0         \n",
      "_________________________________________________________________\n",
      "dense_3 (Dense)              (None, 1421)              99045121  \n",
      "_________________________________________________________________\n",
      "activation_7 (Activation)    (None, 1421)              0         \n",
      "_________________________________________________________________\n",
      "dense_4 (Dense)              (None, 1)                 1422      \n",
      "_________________________________________________________________\n",
      "activation_8 (Activation)    (None, 1)                 0         \n",
      "=================================================================\n",
      "Total params: 99,147,533\n",
      "Trainable params: 99,147,533\n",
      "Non-trainable params: 0\n",
      "_________________________________________________________________\n"
     ]
    },
    {
     "ename": "NameError",
     "evalue": "name 'compileModel' is not defined",
     "output_type": "error",
     "traceback": [
      "\u001B[0;31m---------------------------------------------------------------------------\u001B[0m",
      "\u001B[0;31mNameError\u001B[0m                                 Traceback (most recent call last)",
      "\u001B[0;32m<ipython-input-139-50ec9c80b789>\u001B[0m in \u001B[0;36m<module>\u001B[0;34m\u001B[0m\n\u001B[1;32m      1\u001B[0m \u001B[0mmodel\u001B[0m \u001B[0;34m=\u001B[0m \u001B[0mbuild_model\u001B[0m\u001B[0;34m(\u001B[0m\u001B[0mx_train\u001B[0m\u001B[0;34m)\u001B[0m\u001B[0;34m\u001B[0m\u001B[0;34m\u001B[0m\u001B[0m\n\u001B[0;32m----> 2\u001B[0;31m \u001B[0mcompileModel\u001B[0m\u001B[0;34m(\u001B[0m\u001B[0mmodel\u001B[0m\u001B[0;34m,\u001B[0m\u001B[0mx_train\u001B[0m\u001B[0;34m,\u001B[0m\u001B[0mx_test\u001B[0m\u001B[0;34m,\u001B[0m\u001B[0my_test\u001B[0m\u001B[0;34m,\u001B[0m\u001B[0my_train\u001B[0m\u001B[0;34m)\u001B[0m\u001B[0;34m\u001B[0m\u001B[0;34m\u001B[0m\u001B[0m\n\u001B[0m\u001B[1;32m      3\u001B[0m \u001B[0;34m\u001B[0m\u001B[0m\n",
      "\u001B[0;31mNameError\u001B[0m: name 'compileModel' is not defined"
     ]
    }
   ],
   "source": [
    "model = build_model(x_train)\n",
    "compileModel(model,x_train,x_test,y_test,y_train)"
   ],
   "metadata": {
    "collapsed": false,
    "pycharm": {
     "name": "#%%\n"
    }
   }
  },
  {
   "cell_type": "code",
   "execution_count": null,
   "outputs": [],
   "source": [
    "\n"
   ],
   "metadata": {
    "collapsed": false,
    "pycharm": {
     "name": "#%%\n"
    }
   }
  }
 ],
 "metadata": {
  "kernelspec": {
   "display_name": "Python 3",
   "language": "python",
   "name": "python3"
  },
  "language_info": {
   "codemirror_mode": {
    "name": "ipython",
    "version": 3
   },
   "file_extension": ".py",
   "mimetype": "text/x-python",
   "name": "python",
   "nbconvert_exporter": "python",
   "pygments_lexer": "ipython3",
   "version": "3.7.3"
  }
 },
 "nbformat": 4,
 "nbformat_minor": 1
}