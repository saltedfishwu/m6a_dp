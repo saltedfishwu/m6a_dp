{
 "cells": [
  {
   "cell_type": "code",
   "execution_count": 1,
   "metadata": {},
   "outputs": [
    {
     "ename": "FileNotFoundError",
     "evalue": "[Errno 2] File eif3a_full.csv does not exist: 'eif3a_full.csv'",
     "output_type": "error",
     "traceback": [
      "\u001B[0;31m---------------------------------------------------------------------------\u001B[0m",
      "\u001B[0;31mFileNotFoundError\u001B[0m                         Traceback (most recent call last)",
      "\u001B[0;32m<ipython-input-1-38b675b8f3bf>\u001B[0m in \u001B[0;36m<module>\u001B[0;34m\u001B[0m\n\u001B[1;32m      5\u001B[0m \u001B[0;34m\u001B[0m\u001B[0m\n\u001B[1;32m      6\u001B[0m \u001B[0;34m\u001B[0m\u001B[0m\n\u001B[0;32m----> 7\u001B[0;31m \u001B[0mdf\u001B[0m \u001B[0;34m=\u001B[0m \u001B[0mpd\u001B[0m\u001B[0;34m.\u001B[0m\u001B[0mread_csv\u001B[0m\u001B[0;34m(\u001B[0m\u001B[0;34m\"eif3a_full.csv\"\u001B[0m\u001B[0;34m)\u001B[0m\u001B[0;34m\u001B[0m\u001B[0;34m\u001B[0m\u001B[0m\n\u001B[0m\u001B[1;32m      8\u001B[0m \u001B[0mprint\u001B[0m\u001B[0;34m(\u001B[0m\u001B[0mdf\u001B[0m\u001B[0;34m)\u001B[0m\u001B[0;34m\u001B[0m\u001B[0;34m\u001B[0m\u001B[0m\n\u001B[1;32m      9\u001B[0m \u001B[0;34m\u001B[0m\u001B[0m\n",
      "\u001B[0;32m/anaconda3/envs/DL/lib/python3.7/site-packages/pandas/io/parsers.py\u001B[0m in \u001B[0;36mparser_f\u001B[0;34m(filepath_or_buffer, sep, delimiter, header, names, index_col, usecols, squeeze, prefix, mangle_dupe_cols, dtype, engine, converters, true_values, false_values, skipinitialspace, skiprows, skipfooter, nrows, na_values, keep_default_na, na_filter, verbose, skip_blank_lines, parse_dates, infer_datetime_format, keep_date_col, date_parser, dayfirst, cache_dates, iterator, chunksize, compression, thousands, decimal, lineterminator, quotechar, quoting, doublequote, escapechar, comment, encoding, dialect, error_bad_lines, warn_bad_lines, delim_whitespace, low_memory, memory_map, float_precision)\u001B[0m\n\u001B[1;32m    674\u001B[0m         )\n\u001B[1;32m    675\u001B[0m \u001B[0;34m\u001B[0m\u001B[0m\n\u001B[0;32m--> 676\u001B[0;31m         \u001B[0;32mreturn\u001B[0m \u001B[0m_read\u001B[0m\u001B[0;34m(\u001B[0m\u001B[0mfilepath_or_buffer\u001B[0m\u001B[0;34m,\u001B[0m \u001B[0mkwds\u001B[0m\u001B[0;34m)\u001B[0m\u001B[0;34m\u001B[0m\u001B[0;34m\u001B[0m\u001B[0m\n\u001B[0m\u001B[1;32m    677\u001B[0m \u001B[0;34m\u001B[0m\u001B[0m\n\u001B[1;32m    678\u001B[0m     \u001B[0mparser_f\u001B[0m\u001B[0;34m.\u001B[0m\u001B[0m__name__\u001B[0m \u001B[0;34m=\u001B[0m \u001B[0mname\u001B[0m\u001B[0;34m\u001B[0m\u001B[0;34m\u001B[0m\u001B[0m\n",
      "\u001B[0;32m/anaconda3/envs/DL/lib/python3.7/site-packages/pandas/io/parsers.py\u001B[0m in \u001B[0;36m_read\u001B[0;34m(filepath_or_buffer, kwds)\u001B[0m\n\u001B[1;32m    446\u001B[0m \u001B[0;34m\u001B[0m\u001B[0m\n\u001B[1;32m    447\u001B[0m     \u001B[0;31m# Create the parser.\u001B[0m\u001B[0;34m\u001B[0m\u001B[0;34m\u001B[0m\u001B[0;34m\u001B[0m\u001B[0m\n\u001B[0;32m--> 448\u001B[0;31m     \u001B[0mparser\u001B[0m \u001B[0;34m=\u001B[0m \u001B[0mTextFileReader\u001B[0m\u001B[0;34m(\u001B[0m\u001B[0mfp_or_buf\u001B[0m\u001B[0;34m,\u001B[0m \u001B[0;34m**\u001B[0m\u001B[0mkwds\u001B[0m\u001B[0;34m)\u001B[0m\u001B[0;34m\u001B[0m\u001B[0;34m\u001B[0m\u001B[0m\n\u001B[0m\u001B[1;32m    449\u001B[0m \u001B[0;34m\u001B[0m\u001B[0m\n\u001B[1;32m    450\u001B[0m     \u001B[0;32mif\u001B[0m \u001B[0mchunksize\u001B[0m \u001B[0;32mor\u001B[0m \u001B[0miterator\u001B[0m\u001B[0;34m:\u001B[0m\u001B[0;34m\u001B[0m\u001B[0;34m\u001B[0m\u001B[0m\n",
      "\u001B[0;32m/anaconda3/envs/DL/lib/python3.7/site-packages/pandas/io/parsers.py\u001B[0m in \u001B[0;36m__init__\u001B[0;34m(self, f, engine, **kwds)\u001B[0m\n\u001B[1;32m    878\u001B[0m             \u001B[0mself\u001B[0m\u001B[0;34m.\u001B[0m\u001B[0moptions\u001B[0m\u001B[0;34m[\u001B[0m\u001B[0;34m\"has_index_names\"\u001B[0m\u001B[0;34m]\u001B[0m \u001B[0;34m=\u001B[0m \u001B[0mkwds\u001B[0m\u001B[0;34m[\u001B[0m\u001B[0;34m\"has_index_names\"\u001B[0m\u001B[0;34m]\u001B[0m\u001B[0;34m\u001B[0m\u001B[0;34m\u001B[0m\u001B[0m\n\u001B[1;32m    879\u001B[0m \u001B[0;34m\u001B[0m\u001B[0m\n\u001B[0;32m--> 880\u001B[0;31m         \u001B[0mself\u001B[0m\u001B[0;34m.\u001B[0m\u001B[0m_make_engine\u001B[0m\u001B[0;34m(\u001B[0m\u001B[0mself\u001B[0m\u001B[0;34m.\u001B[0m\u001B[0mengine\u001B[0m\u001B[0;34m)\u001B[0m\u001B[0;34m\u001B[0m\u001B[0;34m\u001B[0m\u001B[0m\n\u001B[0m\u001B[1;32m    881\u001B[0m \u001B[0;34m\u001B[0m\u001B[0m\n\u001B[1;32m    882\u001B[0m     \u001B[0;32mdef\u001B[0m \u001B[0mclose\u001B[0m\u001B[0;34m(\u001B[0m\u001B[0mself\u001B[0m\u001B[0;34m)\u001B[0m\u001B[0;34m:\u001B[0m\u001B[0;34m\u001B[0m\u001B[0;34m\u001B[0m\u001B[0m\n",
      "\u001B[0;32m/anaconda3/envs/DL/lib/python3.7/site-packages/pandas/io/parsers.py\u001B[0m in \u001B[0;36m_make_engine\u001B[0;34m(self, engine)\u001B[0m\n\u001B[1;32m   1112\u001B[0m     \u001B[0;32mdef\u001B[0m \u001B[0m_make_engine\u001B[0m\u001B[0;34m(\u001B[0m\u001B[0mself\u001B[0m\u001B[0;34m,\u001B[0m \u001B[0mengine\u001B[0m\u001B[0;34m=\u001B[0m\u001B[0;34m\"c\"\u001B[0m\u001B[0;34m)\u001B[0m\u001B[0;34m:\u001B[0m\u001B[0;34m\u001B[0m\u001B[0;34m\u001B[0m\u001B[0m\n\u001B[1;32m   1113\u001B[0m         \u001B[0;32mif\u001B[0m \u001B[0mengine\u001B[0m \u001B[0;34m==\u001B[0m \u001B[0;34m\"c\"\u001B[0m\u001B[0;34m:\u001B[0m\u001B[0;34m\u001B[0m\u001B[0;34m\u001B[0m\u001B[0m\n\u001B[0;32m-> 1114\u001B[0;31m             \u001B[0mself\u001B[0m\u001B[0;34m.\u001B[0m\u001B[0m_engine\u001B[0m \u001B[0;34m=\u001B[0m \u001B[0mCParserWrapper\u001B[0m\u001B[0;34m(\u001B[0m\u001B[0mself\u001B[0m\u001B[0;34m.\u001B[0m\u001B[0mf\u001B[0m\u001B[0;34m,\u001B[0m \u001B[0;34m**\u001B[0m\u001B[0mself\u001B[0m\u001B[0;34m.\u001B[0m\u001B[0moptions\u001B[0m\u001B[0;34m)\u001B[0m\u001B[0;34m\u001B[0m\u001B[0;34m\u001B[0m\u001B[0m\n\u001B[0m\u001B[1;32m   1115\u001B[0m         \u001B[0;32melse\u001B[0m\u001B[0;34m:\u001B[0m\u001B[0;34m\u001B[0m\u001B[0;34m\u001B[0m\u001B[0m\n\u001B[1;32m   1116\u001B[0m             \u001B[0;32mif\u001B[0m \u001B[0mengine\u001B[0m \u001B[0;34m==\u001B[0m \u001B[0;34m\"python\"\u001B[0m\u001B[0;34m:\u001B[0m\u001B[0;34m\u001B[0m\u001B[0;34m\u001B[0m\u001B[0m\n",
      "\u001B[0;32m/anaconda3/envs/DL/lib/python3.7/site-packages/pandas/io/parsers.py\u001B[0m in \u001B[0;36m__init__\u001B[0;34m(self, src, **kwds)\u001B[0m\n\u001B[1;32m   1889\u001B[0m         \u001B[0mkwds\u001B[0m\u001B[0;34m[\u001B[0m\u001B[0;34m\"usecols\"\u001B[0m\u001B[0;34m]\u001B[0m \u001B[0;34m=\u001B[0m \u001B[0mself\u001B[0m\u001B[0;34m.\u001B[0m\u001B[0musecols\u001B[0m\u001B[0;34m\u001B[0m\u001B[0;34m\u001B[0m\u001B[0m\n\u001B[1;32m   1890\u001B[0m \u001B[0;34m\u001B[0m\u001B[0m\n\u001B[0;32m-> 1891\u001B[0;31m         \u001B[0mself\u001B[0m\u001B[0;34m.\u001B[0m\u001B[0m_reader\u001B[0m \u001B[0;34m=\u001B[0m \u001B[0mparsers\u001B[0m\u001B[0;34m.\u001B[0m\u001B[0mTextReader\u001B[0m\u001B[0;34m(\u001B[0m\u001B[0msrc\u001B[0m\u001B[0;34m,\u001B[0m \u001B[0;34m**\u001B[0m\u001B[0mkwds\u001B[0m\u001B[0;34m)\u001B[0m\u001B[0;34m\u001B[0m\u001B[0;34m\u001B[0m\u001B[0m\n\u001B[0m\u001B[1;32m   1892\u001B[0m         \u001B[0mself\u001B[0m\u001B[0;34m.\u001B[0m\u001B[0munnamed_cols\u001B[0m \u001B[0;34m=\u001B[0m \u001B[0mself\u001B[0m\u001B[0;34m.\u001B[0m\u001B[0m_reader\u001B[0m\u001B[0;34m.\u001B[0m\u001B[0munnamed_cols\u001B[0m\u001B[0;34m\u001B[0m\u001B[0;34m\u001B[0m\u001B[0m\n\u001B[1;32m   1893\u001B[0m \u001B[0;34m\u001B[0m\u001B[0m\n",
      "\u001B[0;32mpandas/_libs/parsers.pyx\u001B[0m in \u001B[0;36mpandas._libs.parsers.TextReader.__cinit__\u001B[0;34m()\u001B[0m\n",
      "\u001B[0;32mpandas/_libs/parsers.pyx\u001B[0m in \u001B[0;36mpandas._libs.parsers.TextReader._setup_parser_source\u001B[0;34m()\u001B[0m\n",
      "\u001B[0;31mFileNotFoundError\u001B[0m: [Errno 2] File eif3a_full.csv does not exist: 'eif3a_full.csv'"
     ]
    }
   ],
   "source": [
    "import pandas as pd\n",
    "import numpy as np\n",
    "import os\n",
    "import numpy as np\n",
    "\n",
    "\n",
    "df = pd.read_csv(\"eif3a_full.csv\")\n",
    "print(df)"
   ]
  },
  {
   "cell_type": "code",
   "execution_count": null,
   "metadata": {
    "pycharm": {
     "name": "#%%\n"
    }
   },
   "outputs": [],
   "source": [
    "train_All_1 = df.iloc[:,2]\n",
    "test_all_1 = df.iloc[:,3]\n",
    "# print(train_All_1)\n",
    "# print(test_all_1)"
   ]
  },
  {
   "cell_type": "code",
   "execution_count": 2,
   "metadata": {},
   "outputs": [
    {
     "ename": "NameError",
     "evalue": "name 'train_All_1' is not defined",
     "output_type": "error",
     "traceback": [
      "\u001B[0;31m---------------------------------------------------------------------------\u001B[0m",
      "\u001B[0;31mNameError\u001B[0m                                 Traceback (most recent call last)",
      "\u001B[0;32m<ipython-input-2-7e844a9b9b9a>\u001B[0m in \u001B[0;36m<module>\u001B[0;34m\u001B[0m\n\u001B[0;32m----> 1\u001B[0;31m \u001B[0mpos_train_seq\u001B[0m \u001B[0;34m=\u001B[0m \u001B[0mtrain_All_1\u001B[0m\u001B[0;34m[\u001B[0m\u001B[0;36m0\u001B[0m\u001B[0;34m:\u001B[0m\u001B[0;36m711\u001B[0m\u001B[0;34m,\u001B[0m\u001B[0;34m]\u001B[0m\u001B[0;34m\u001B[0m\u001B[0;34m\u001B[0m\u001B[0m\n\u001B[0m\u001B[1;32m      2\u001B[0m \u001B[0mneg_train_seq\u001B[0m \u001B[0;34m=\u001B[0m \u001B[0mtrain_All_1\u001B[0m\u001B[0;34m[\u001B[0m\u001B[0;36m711\u001B[0m\u001B[0;34m:\u001B[0m\u001B[0;34m,\u001B[0m\u001B[0;34m]\u001B[0m\u001B[0;34m\u001B[0m\u001B[0;34m\u001B[0m\u001B[0m\n\u001B[1;32m      3\u001B[0m \u001B[0;31m# print(len(pos_train_seq),\"sadasdas\")\u001B[0m\u001B[0;34m\u001B[0m\u001B[0;34m\u001B[0m\u001B[0;34m\u001B[0m\u001B[0m\n\u001B[1;32m      4\u001B[0m \u001B[0;31m# print(len(neg_train_seq),\"*********\")\u001B[0m\u001B[0;34m\u001B[0m\u001B[0;34m\u001B[0m\u001B[0;34m\u001B[0m\u001B[0m\n\u001B[1;32m      5\u001B[0m \u001B[0;31m# print(pos_train_seq)\u001B[0m\u001B[0;34m\u001B[0m\u001B[0;34m\u001B[0m\u001B[0;34m\u001B[0m\u001B[0m\n",
      "\u001B[0;31mNameError\u001B[0m: name 'train_All_1' is not defined"
     ]
    }
   ],
   "source": [
    "pos_train_seq = train_All_1[0:711,]\n",
    "neg_train_seq = train_All_1[711:,]\n",
    "# print(len(pos_train_seq),\"sadasdas\")\n",
    "# print(len(neg_train_seq),\"*********\")\n",
    "# print(pos_train_seq)"
   ]
  },
  {
   "cell_type": "code",
   "execution_count": 4,
   "metadata": {
    "pycharm": {
     "name": "#%%\n"
    }
   },
   "outputs": [
    {
     "name": "stdout",
     "output_type": "stream",
     "text": [
      "['TGCCCCTCCCTCCGGGTGGAACTTCCCCCTCACCGCCAGAC'\n",
      " 'CCCCCGCCTCAGTTGTCTAAACTTCGGGCTCTCTTCCACCC'\n",
      " 'AAGTGGTGAGCTGCGACGTGACTGGCTAGCTGCGTGGGTAC'\n",
      " 'AGACAGTGAAAGTGAAATGGACTGATTTGCACTCTTGGTTC'\n",
      " 'CTTCGGCGGAGCCTGGGCTGACCAGCCAGGACAGCGGGGTA'\n",
      " 'CTTTCCTCACATTTCCAGGAACTGAGTATCTACCAAGATCA'\n",
      " 'ACGACTTCTCCCTTCTTTGAACTGGACCCCGCGAGCACCAG'\n",
      " 'TTTAAATTCCCGGCTCGGGGACCTCCACGCACCGCGGCTAG'\n",
      " 'AGCGAGGAGGCTATTTCCAGACACTTCCACCCCTCTCTGGC'\n",
      " 'CGCCGGCTTCTCCCGCAGTGACTTGAGAAGGGTCAGTGAAA'\n",
      " 'CCATCTTCGCGGTAGCTGGGACCGCCGTTCAGGTAAGAATG'\n",
      " 'GCTTGCTGCTGTCTCTGGGAACTGGGTGCCAGCGCTGAGGG'\n",
      " 'TCACATCTCTTACCATAAAAACTGCATTGAAATTGAAAATG'\n",
      " 'CATTTTGGAGAGCCTAATAAACTGTTATTACAGTTTCTCTA'\n",
      " 'GGACTCATTTATTGAGCAAGACTTATATTTATCTCTTCATT'\n",
      " 'GCCGAGGAGCTCAAGCCCGGACCAATCCCCACGTTCCGGGC'\n",
      " 'GCCGCCGCGGAGCTTCCCGAACCTCTTCAGCCGCCCGGAGC'\n",
      " 'TTTTCTCCACACAGGCAGGGACTGGCTGCCAACCCCTCCGG'\n",
      " 'CACACACATTCCATTCCAAAACTGATTTTATAAAGACATTT'\n",
      " 'CCCTTCCCCACCCTTCCAGAACACACACATTCCATTCCAAA'\n",
      " 'TGGGCGGCGGGAATCCGCGGACATCGGGTCGGGTCTAGGCT'\n",
      " 'TCCGGAACAGTCGACGGCAGACTCCGGCCCGCTGAGCCACC'\n",
      " 'TTCTCCTGGGCTCTCCCCGAACTCTCCCGCGACCTCTGCGC'\n",
      " 'AGCTCCTTTCACCCGCCGGAACCCCGGAGCCGGGGCCCGCT'\n",
      " 'ATGATAACATTTCCTCTCAAACCTTATCCCTTACTCTGCAT'\n",
      " 'TTCAACAGTGTTTGGACGGAACAGATCCGGGGACTCTCTTC'\n",
      " 'TGGACGGAACAGATCCGGGGACTCTCTTCCAGCCTCCGACC'\n",
      " 'GCCAGGTGCCGAGAACTAGGACCTCGTCCCCTTCTCTATCC'\n",
      " 'CCACTCTCCCTGCCCCTCGGACCCCATACTCTACCTCATCC'\n",
      " 'CCCGCATCCCACCCTCCCGGACCTAAGAGCCTGGGTCCCCT'\n",
      " 'GAGGCTTTCTCTGGCTGGTAACCGCTACTCCCGGACACCAG'\n",
      " 'CTGAAGCCGAAACCAGCTAGACTTTCCTCCTTCCCGCCTGC'\n",
      " 'CGGGCCTAGCCGTCCTTGGAACCCGATATTCGGGCTGGGCG'\n",
      " 'ACCTCACCTTTCAAACCTAAACTCGAGCCTACTGTTCACCG'\n",
      " 'GCTCCGGTGCTCCTTTCCTAACTCCACTGGCTGCGGCATCT'\n",
      " 'GAGGTCTCAACTTCGGCTGGACTCTTAAATCCTGGGGTCAT'\n",
      " 'AGCCGAGCACTCTCGCCAGAACCTCTGGCTCGCGCGTGCCT'\n",
      " 'AGCGCCTGGATCAGCCCGTGACTCTTAACAGCGGCGGGCCT'\n",
      " 'GGATCAGCCCGTGACTCTTAACAGCGGCGGGCCTCAGACCC'\n",
      " 'GCAGAGCTCCCGGCCTCTGGACCGCGCGCGGCGCTCTGGGG'\n",
      " 'AGCTAGCGTCTGGCCTGAGAACCTCGGCGCTCCGGCGGCGC'\n",
      " 'GCGCCGAGCCGGGGCTGCGGACTTCGGCCTGCCCCTCACCT'\n",
      " 'CCCTCAGCCCGTCCCGCCGGACCCGCTTTCCTCAACTCTCC'\n",
      " 'GCCGAGGCGTAGTGTGGGTGACTCCTCCGTTCCTTGGGTCC'\n",
      " 'CTCCCGAGCCGTTGCCACTGACAGCCGCGGGCGCTCCCATC'\n",
      " 'ACACCAAAATGCTGCAGTGAACATTCTTGCATGTACATGTT'\n",
      " 'GTATGTGGGGCCGTGTGCAGACCCGCGTGTGGCGCAGGCAA'\n",
      " 'GGTGAGGGGGATGTGGCAGGACTATAAGGTAATGGTGGGGA'\n",
      " 'TGAGAGGCTGTTTGACATAGACCAAAGAAGAAACTGGAAGA'\n",
      " 'CATCCCAGGAGAGAATGAGGACCCTGTCGGAATCATAAGGG'\n",
      " 'AAATTAGTATAAGTCATTAAACTAAAAAGATTTCTAAATGG'\n",
      " 'TTTTCCTTCCCCTAGCTTTGACTTTTCTTATGGTCTGTGAG'\n",
      " 'GTGAACTAACTTTACTTAAAACCGGGTTAAATGTTTGTTAC'\n",
      " 'CCGCACTGGCCTGGGAGCGGACCCCGGACTACACACGGCTT'\n",
      " 'AGTACTACAGAATGGCAGGGACAGTGAAAATGAGCATTCTT'\n",
      " 'TTGTATGAAATTTTTTTAAAACAATCTTTAAATCAAATTGA'\n",
      " 'CCTTACTGTCTAGAAAGAGAACTAAGAATATTCAGTGGACC'\n",
      " 'TTTTTTTTTTCTTTTTTGAGACAGAGTCTCACTCTGTCGCC'\n",
      " 'TACCAATCTTATAAAGAAGAACTAACACGAATTCTTCTCAA'\n",
      " 'TGTTAAAATATACAATTTTAACAATTAAAAATATTATTAAA'\n",
      " 'TGTTAGTCTTAAGAGATTTGACTTAACAAGCTGCATCCTGT'\n",
      " 'AGGAATTTGTTCATATTTTAACTGATAGCTGTGTCTTCAGG'\n",
      " 'TTGCCTGTCTGATTTGTATAACACGGTTGAAATGTATGATA'\n",
      " 'ACTATCAATACACTATAGTAACTACTCAGGTTGCTTGAATT'\n",
      " 'TTTCTACTTTCTCATAGGAAACTAGTTCTGTGCTCTGATAC'\n",
      " 'GGTGATTTGGAAGTACACTGACATGAGTATAGTCAACCTTA'\n",
      " 'GTTTGTTAGGGTGCCAAAGGACAGGTTCACCATGGCTTCCA'\n",
      " 'CTGAGGGTCCTGTGAGTTTAACCATTTCAAACAGTCTTTTT'\n",
      " 'AGTCTGGCCAAGATGGTGAAACCCCGTCTCTACTGAAAATA'\n",
      " 'TGTGAGATACCCAAGGGGAGACAGGAGGTAGGCCACTGAAA'\n",
      " 'TAATATCAAAAATGCGTGGAACTTTTGCTGACAAAGAAAAG'\n",
      " 'TGACTCCTTCCAGAAAAAAAACTCAAATATTTTAAGTAGAT'\n",
      " 'AGAAGACAGGAGGATCAGAAACACTGAAGTTTTAAGAAGTG'\n",
      " 'AGTTTTCTCTTCATAGTTAGACTCTCTTAAAAAAGAAGCTC'\n",
      " 'GCCTGCAAAGCAATTTACAAACTTACTATATAGTGCTTGCT'\n",
      " 'TCCAGGCATTTGGAATGCAAACTATAATTGATCAAATACTA'\n",
      " 'TAGCGTTGGACTTTGAGTAGACACGGTCATGAGTAGACATG'\n",
      " 'CATTAGAGAAGTAAGCAGAAACACAGCAGCTGATGATGAAC'\n",
      " 'AGGCTGGTTTTGAACTCCTGACCTCAGGTGATCCGCCCACT'\n",
      " 'ATTATTCAATCCATGAAAAGACACAGAGGAAATTTTAATGC'\n",
      " 'TCTGCATTTTTTTTCTGATGACTCTCTGCATTTGAAAATGC'\n",
      " 'GAATTACATGAAAGTTAAAAACTTCAACACAATAACAGACA'\n",
      " 'GAGTAGCTGGGATTACAGGGACCTGTCACCATGCCCGGCTA'\n",
      " 'AGGAGCCCAGACTGACTAAGACACCCTCCACAGAAGTAGTT'\n",
      " 'TTATGTACAGTAAAATAAAAACAAATGGGGAAAAAAATCTG'\n",
      " 'GTGACTATGTAAGGCAACTGACAGTTTTTAAAATTTGGTCA'\n",
      " 'ATGCCATGTCTAAAATGTTAACCTATTGTTGGAAAACAGTA'\n",
      " 'TGCACATGGTAATCTAAGGGACAAAGAACTGGATAACTTCA'\n",
      " 'TTTTTGCAATAAGCTGTTAAACAGGGCTGGATCTATGCTGG'\n",
      " 'ATAAAGCAGATTTTTCTAAAACAAGGGTGAAAATTTTATCA']\n"
     ]
    }
   ],
   "source": [
    "pos_test_seq = test_all_1[0:45,]\n",
    "neg_test_seq = test_all_1[45:90,]\n",
    "\n",
    "X_test = np.array(test_all_1[0:90])\n",
    "# X_test = np.mat(X_test)\n",
    "print(X_test)\n",
    "# print(X_test.shape)\n",
    "# print(len(pos_test_seq),\"sadasdas\")\n",
    "# print(len(neg_test_seq),\"*********\")\n",
    "# print(neg_test_seq)"
   ]
  },
  {
   "cell_type": "code",
   "execution_count": 5,
   "metadata": {},
   "outputs": [
    {
     "name": "stdout",
     "output_type": "stream",
     "text": [
      "(1422, 1)\n",
      "<class 'numpy.matrix'>\n"
     ]
    }
   ],
   "source": [
    "y_train = np.array([\"positive\",\"negative\"])\n",
    "y_train = y_train.repeat(711)\n",
    "y_train = np.mat(y_train).transpose()\n",
    "# y_train = np.transpose(y_train)\n",
    "# print(y_train)\n",
    "print(y_train.shape)\n",
    "print(type(y_train))\n",
    "# print(type(y_train))\n",
    "# print(len(y_train))"
   ]
  },
  {
   "cell_type": "code",
   "execution_count": 6,
   "outputs": [],
   "source": [
    "y_test = np.array([\"positive\",\"negative\"])\n",
    "y_test = y_test.repeat(45)\n",
    "# print(y_test)\n"
   ],
   "metadata": {
    "collapsed": false,
    "pycharm": {
     "name": "#%%\n"
    }
   }
  },
  {
   "cell_type": "code",
   "execution_count": 7,
   "outputs": [],
   "source": [
    "from collections import OrderedDict\n",
    "CHAR_TO_INT = OrderedDict([('A', 0), ('T', 1), ('G', 2), ('C', 3), ('N', 4)])"
   ],
   "metadata": {
    "collapsed": false,
    "pycharm": {
     "name": "#%%\n"
    }
   }
  },
  {
   "cell_type": "code",
   "execution_count": 8,
   "outputs": [],
   "source": [
    "def char_to_int(seq):\n",
    "    return [CHAR_TO_INT[x] for x in seq.upper()]"
   ],
   "metadata": {
    "collapsed": false,
    "pycharm": {
     "name": "#%%\n"
    }
   }
  },
  {
   "cell_type": "code",
   "execution_count": 22,
   "outputs": [
    {
     "ename": "AttributeError",
     "evalue": "'numpy.ndarray' object has no attribute 'upper'",
     "output_type": "error",
     "traceback": [
      "\u001B[0;31m---------------------------------------------------------------------------\u001B[0m",
      "\u001B[0;31mAttributeError\u001B[0m                            Traceback (most recent call last)",
      "\u001B[0;32m<ipython-input-22-7ff105edebde>\u001B[0m in \u001B[0;36m<module>\u001B[0;34m\u001B[0m\n\u001B[0;32m----> 1\u001B[0;31m \u001B[0mchar_to_int\u001B[0m\u001B[0;34m(\u001B[0m\u001B[0mX_test\u001B[0m\u001B[0;34m)\u001B[0m\u001B[0;34m\u001B[0m\u001B[0;34m\u001B[0m\u001B[0m\n\u001B[0m\u001B[1;32m      2\u001B[0m \u001B[0;31m# print(X_test)\u001B[0m\u001B[0;34m\u001B[0m\u001B[0;34m\u001B[0m\u001B[0;34m\u001B[0m\u001B[0m\n\u001B[1;32m      3\u001B[0m \u001B[0;34m\u001B[0m\u001B[0m\n",
      "\u001B[0;32m<ipython-input-21-637ae4917b95>\u001B[0m in \u001B[0;36mchar_to_int\u001B[0;34m(seq)\u001B[0m\n\u001B[1;32m      1\u001B[0m \u001B[0;32mdef\u001B[0m \u001B[0mchar_to_int\u001B[0m\u001B[0;34m(\u001B[0m\u001B[0mseq\u001B[0m\u001B[0;34m)\u001B[0m\u001B[0;34m:\u001B[0m\u001B[0;34m\u001B[0m\u001B[0;34m\u001B[0m\u001B[0m\n\u001B[0;32m----> 2\u001B[0;31m     \u001B[0;32mreturn\u001B[0m \u001B[0;34m[\u001B[0m\u001B[0mCHAR_TO_INT\u001B[0m\u001B[0;34m[\u001B[0m\u001B[0mx\u001B[0m\u001B[0;34m]\u001B[0m \u001B[0;32mfor\u001B[0m \u001B[0mx\u001B[0m \u001B[0;32min\u001B[0m \u001B[0mseq\u001B[0m\u001B[0;34m.\u001B[0m\u001B[0mupper\u001B[0m\u001B[0;34m(\u001B[0m\u001B[0;34m)\u001B[0m\u001B[0;34m]\u001B[0m\u001B[0;34m\u001B[0m\u001B[0;34m\u001B[0m\u001B[0m\n\u001B[0m\u001B[1;32m      3\u001B[0m \u001B[0;34m\u001B[0m\u001B[0m\n",
      "\u001B[0;31mAttributeError\u001B[0m: 'numpy.ndarray' object has no attribute 'upper'"
     ]
    }
   ],
   "source": [
    "char_to_int(X_test)\n",
    "# print(X_test)"
   ],
   "metadata": {
    "collapsed": false,
    "pycharm": {
     "name": "#%%\n"
    }
   }
  },
  {
   "cell_type": "code",
   "execution_count": 23,
   "outputs": [],
   "source": [
    "def int_to_onehot(seqs, dim=4):\n",
    "    \"\"\"Special nucleotides will be encoded as [0, 0, 0, 0].\"\"\"\n",
    "    seqs = np.atleast_2d(np.asarray(seqs))\n",
    "    n = seqs.shape[0]\n",
    "    l = seqs.shape[1]\n",
    "    enc_seqs = np.zeros((n, l, dim), dtype='int8')\n",
    "    for i in range(dim):\n",
    "        t = seqs == i\n",
    "        enc_seqs[t, i] = 1\n",
    "    return enc_seqs"
   ],
   "metadata": {
    "collapsed": false,
    "pycharm": {
     "name": "#%%\n"
    }
   }
  },
  {
   "cell_type": "code",
   "execution_count": 24,
   "outputs": [],
   "source": [
    "def seq_to_mat(seq):\n",
    "    seq_len = len(seq)\n",
    "    seq = seq.replace('A','0')\n",
    "    seq = seq.replace('a','0')\n",
    "    seq = seq.replace('C','1')\n",
    "    seq = seq.replace('c','1')\n",
    "    seq = seq.replace('G','2')\n",
    "    seq = seq.replace('g','2')\n",
    "    seq = seq.replace('T','3')\n",
    "    seq = seq.replace('t','3')\n",
    "    seq = seq.replace('U','3')\n",
    "    seq = seq.replace('u','3')\n",
    "    seq = seq.replace('N','4') #some cases have N in sequence\n",
    "    seq = seq.replace('n','4')\n",
    "    seq_code = np.zeros((4,seq_len), dtype='float16')\n",
    "    for i in range(seq_len):\n",
    "        if int(seq[i]) != 4:\n",
    "            seq_code[int(seq[i]),i] = 1\n",
    "        else:\n",
    "            seq_code[0:4,i] = np.tile(0.25,4)\n",
    "    return np.transpose(seq_code)"
   ],
   "metadata": {
    "collapsed": false,
    "pycharm": {
     "name": "#%%\n"
    }
   }
  },
  {
   "cell_type": "code",
   "execution_count": 25,
   "outputs": [],
   "source": [
    "def seq_to_1hot(seq,randomsel=True):\n",
    "\t'converts the sequence to one-hot encoding'\n",
    "\timport random\n",
    "\tseq_len = len(seq)\n",
    "\tseq= seq.upper()\n",
    "\tseq_code = np.zeros((4,seq_len), dtype='int')\n",
    "\tfor i in range(seq_len):\n",
    "\t\tnt = seq[i]\n",
    "\t\tif nt == 'A':\n",
    "\t\t    seq_code[0,i] = 1\n",
    "\t\telif nt == 'C':\n",
    "\t\t    seq_code[1,i] = 1\n",
    "\t\telif nt == 'G':\n",
    "\t\t    seq_code[2,i] = 1\n",
    "\t\telif nt == 'T':\n",
    "\t\t    seq_code[3,i] = 1\n",
    "\t\telif randomsel:\n",
    "\t\t    rn = random.randint(0,3)\n",
    "\t\t    seq_code[rn,i] = 1\n",
    "\treturn seq_code\n",
    "\n"
   ],
   "metadata": {
    "collapsed": false,
    "pycharm": {
     "name": "#%%\n"
    }
   }
  },
  {
   "cell_type": "code",
   "execution_count": 40,
   "outputs": [
    {
     "name": "stdout",
     "output_type": "stream",
     "text": [
      "X_test length 90\n",
      "['TGCCCCTCCCTCCGGGTGGAACTTCCCCCTCACCGCCAGAC'\n",
      " 'CCCCCGCCTCAGTTGTCTAAACTTCGGGCTCTCTTCCACCC'\n",
      " 'AAGTGGTGAGCTGCGACGTGACTGGCTAGCTGCGTGGGTAC'\n",
      " 'AGACAGTGAAAGTGAAATGGACTGATTTGCACTCTTGGTTC'\n",
      " 'CTTCGGCGGAGCCTGGGCTGACCAGCCAGGACAGCGGGGTA'\n",
      " 'CTTTCCTCACATTTCCAGGAACTGAGTATCTACCAAGATCA'\n",
      " 'ACGACTTCTCCCTTCTTTGAACTGGACCCCGCGAGCACCAG'\n",
      " 'TTTAAATTCCCGGCTCGGGGACCTCCACGCACCGCGGCTAG'\n",
      " 'AGCGAGGAGGCTATTTCCAGACACTTCCACCCCTCTCTGGC'\n",
      " 'CGCCGGCTTCTCCCGCAGTGACTTGAGAAGGGTCAGTGAAA'\n",
      " 'CCATCTTCGCGGTAGCTGGGACCGCCGTTCAGGTAAGAATG'\n",
      " 'GCTTGCTGCTGTCTCTGGGAACTGGGTGCCAGCGCTGAGGG'\n",
      " 'TCACATCTCTTACCATAAAAACTGCATTGAAATTGAAAATG'\n",
      " 'CATTTTGGAGAGCCTAATAAACTGTTATTACAGTTTCTCTA'\n",
      " 'GGACTCATTTATTGAGCAAGACTTATATTTATCTCTTCATT'\n",
      " 'GCCGAGGAGCTCAAGCCCGGACCAATCCCCACGTTCCGGGC'\n",
      " 'GCCGCCGCGGAGCTTCCCGAACCTCTTCAGCCGCCCGGAGC'\n",
      " 'TTTTCTCCACACAGGCAGGGACTGGCTGCCAACCCCTCCGG'\n",
      " 'CACACACATTCCATTCCAAAACTGATTTTATAAAGACATTT'\n",
      " 'CCCTTCCCCACCCTTCCAGAACACACACATTCCATTCCAAA'\n",
      " 'TGGGCGGCGGGAATCCGCGGACATCGGGTCGGGTCTAGGCT'\n",
      " 'TCCGGAACAGTCGACGGCAGACTCCGGCCCGCTGAGCCACC'\n",
      " 'TTCTCCTGGGCTCTCCCCGAACTCTCCCGCGACCTCTGCGC'\n",
      " 'AGCTCCTTTCACCCGCCGGAACCCCGGAGCCGGGGCCCGCT'\n",
      " 'ATGATAACATTTCCTCTCAAACCTTATCCCTTACTCTGCAT'\n",
      " 'TTCAACAGTGTTTGGACGGAACAGATCCGGGGACTCTCTTC'\n",
      " 'TGGACGGAACAGATCCGGGGACTCTCTTCCAGCCTCCGACC'\n",
      " 'GCCAGGTGCCGAGAACTAGGACCTCGTCCCCTTCTCTATCC'\n",
      " 'CCACTCTCCCTGCCCCTCGGACCCCATACTCTACCTCATCC'\n",
      " 'CCCGCATCCCACCCTCCCGGACCTAAGAGCCTGGGTCCCCT'\n",
      " 'GAGGCTTTCTCTGGCTGGTAACCGCTACTCCCGGACACCAG'\n",
      " 'CTGAAGCCGAAACCAGCTAGACTTTCCTCCTTCCCGCCTGC'\n",
      " 'CGGGCCTAGCCGTCCTTGGAACCCGATATTCGGGCTGGGCG'\n",
      " 'ACCTCACCTTTCAAACCTAAACTCGAGCCTACTGTTCACCG'\n",
      " 'GCTCCGGTGCTCCTTTCCTAACTCCACTGGCTGCGGCATCT'\n",
      " 'GAGGTCTCAACTTCGGCTGGACTCTTAAATCCTGGGGTCAT'\n",
      " 'AGCCGAGCACTCTCGCCAGAACCTCTGGCTCGCGCGTGCCT'\n",
      " 'AGCGCCTGGATCAGCCCGTGACTCTTAACAGCGGCGGGCCT'\n",
      " 'GGATCAGCCCGTGACTCTTAACAGCGGCGGGCCTCAGACCC'\n",
      " 'GCAGAGCTCCCGGCCTCTGGACCGCGCGCGGCGCTCTGGGG'\n",
      " 'AGCTAGCGTCTGGCCTGAGAACCTCGGCGCTCCGGCGGCGC'\n",
      " 'GCGCCGAGCCGGGGCTGCGGACTTCGGCCTGCCCCTCACCT'\n",
      " 'CCCTCAGCCCGTCCCGCCGGACCCGCTTTCCTCAACTCTCC'\n",
      " 'GCCGAGGCGTAGTGTGGGTGACTCCTCCGTTCCTTGGGTCC'\n",
      " 'CTCCCGAGCCGTTGCCACTGACAGCCGCGGGCGCTCCCATC'\n",
      " 'ACACCAAAATGCTGCAGTGAACATTCTTGCATGTACATGTT'\n",
      " 'GTATGTGGGGCCGTGTGCAGACCCGCGTGTGGCGCAGGCAA'\n",
      " 'GGTGAGGGGGATGTGGCAGGACTATAAGGTAATGGTGGGGA'\n",
      " 'TGAGAGGCTGTTTGACATAGACCAAAGAAGAAACTGGAAGA'\n",
      " 'CATCCCAGGAGAGAATGAGGACCCTGTCGGAATCATAAGGG'\n",
      " 'AAATTAGTATAAGTCATTAAACTAAAAAGATTTCTAAATGG'\n",
      " 'TTTTCCTTCCCCTAGCTTTGACTTTTCTTATGGTCTGTGAG'\n",
      " 'GTGAACTAACTTTACTTAAAACCGGGTTAAATGTTTGTTAC'\n",
      " 'CCGCACTGGCCTGGGAGCGGACCCCGGACTACACACGGCTT'\n",
      " 'AGTACTACAGAATGGCAGGGACAGTGAAAATGAGCATTCTT'\n",
      " 'TTGTATGAAATTTTTTTAAAACAATCTTTAAATCAAATTGA'\n",
      " 'CCTTACTGTCTAGAAAGAGAACTAAGAATATTCAGTGGACC'\n",
      " 'TTTTTTTTTTCTTTTTTGAGACAGAGTCTCACTCTGTCGCC'\n",
      " 'TACCAATCTTATAAAGAAGAACTAACACGAATTCTTCTCAA'\n",
      " 'TGTTAAAATATACAATTTTAACAATTAAAAATATTATTAAA'\n",
      " 'TGTTAGTCTTAAGAGATTTGACTTAACAAGCTGCATCCTGT'\n",
      " 'AGGAATTTGTTCATATTTTAACTGATAGCTGTGTCTTCAGG'\n",
      " 'TTGCCTGTCTGATTTGTATAACACGGTTGAAATGTATGATA'\n",
      " 'ACTATCAATACACTATAGTAACTACTCAGGTTGCTTGAATT'\n",
      " 'TTTCTACTTTCTCATAGGAAACTAGTTCTGTGCTCTGATAC'\n",
      " 'GGTGATTTGGAAGTACACTGACATGAGTATAGTCAACCTTA'\n",
      " 'GTTTGTTAGGGTGCCAAAGGACAGGTTCACCATGGCTTCCA'\n",
      " 'CTGAGGGTCCTGTGAGTTTAACCATTTCAAACAGTCTTTTT'\n",
      " 'AGTCTGGCCAAGATGGTGAAACCCCGTCTCTACTGAAAATA'\n",
      " 'TGTGAGATACCCAAGGGGAGACAGGAGGTAGGCCACTGAAA'\n",
      " 'TAATATCAAAAATGCGTGGAACTTTTGCTGACAAAGAAAAG'\n",
      " 'TGACTCCTTCCAGAAAAAAAACTCAAATATTTTAAGTAGAT'\n",
      " 'AGAAGACAGGAGGATCAGAAACACTGAAGTTTTAAGAAGTG'\n",
      " 'AGTTTTCTCTTCATAGTTAGACTCTCTTAAAAAAGAAGCTC'\n",
      " 'GCCTGCAAAGCAATTTACAAACTTACTATATAGTGCTTGCT'\n",
      " 'TCCAGGCATTTGGAATGCAAACTATAATTGATCAAATACTA'\n",
      " 'TAGCGTTGGACTTTGAGTAGACACGGTCATGAGTAGACATG'\n",
      " 'CATTAGAGAAGTAAGCAGAAACACAGCAGCTGATGATGAAC'\n",
      " 'AGGCTGGTTTTGAACTCCTGACCTCAGGTGATCCGCCCACT'\n",
      " 'ATTATTCAATCCATGAAAAGACACAGAGGAAATTTTAATGC'\n",
      " 'TCTGCATTTTTTTTCTGATGACTCTCTGCATTTGAAAATGC'\n",
      " 'GAATTACATGAAAGTTAAAAACTTCAACACAATAACAGACA'\n",
      " 'GAGTAGCTGGGATTACAGGGACCTGTCACCATGCCCGGCTA'\n",
      " 'AGGAGCCCAGACTGACTAAGACACCCTCCACAGAAGTAGTT'\n",
      " 'TTATGTACAGTAAAATAAAAACAAATGGGGAAAAAAATCTG'\n",
      " 'GTGACTATGTAAGGCAACTGACAGTTTTTAAAATTTGGTCA'\n",
      " 'ATGCCATGTCTAAAATGTTAACCTATTGTTGGAAAACAGTA'\n",
      " 'TGCACATGGTAATCTAAGGGACAAAGAACTGGATAACTTCA'\n",
      " 'TTTTTGCAATAAGCTGTTAAACAGGGCTGGATCTATGCTGG'\n",
      " 'ATAAAGCAGATTTTTCTAAAACAAGGGTGAAAATTTTATCA']\n"
     ]
    }
   ],
   "source": [
    "# seq_to_1hot(X_test)\n",
    "print(\"X_test length\",len(X_test))\n",
    "num = 0\n",
    "lst = []\n",
    "for seq in X_test:\n",
    "    x = seq_to_mat(seq).tolist()\n",
    "    lst.extend(x)\n",
    "\n",
    "Xl_test = np.array(lst)\n",
    "print(X_test)"
   ],
   "metadata": {
    "collapsed": false,
    "pycharm": {
     "name": "#%%\n"
    }
   }
  },
  {
   "cell_type": "code",
   "execution_count": 38,
   "outputs": [
    {
     "name": "stdout",
     "output_type": "stream",
     "text": [
      "x_train one hot encoding\n",
      "[[0. 0. 0. 1.]\n",
      " [0. 0. 0. 1.]\n",
      " [1. 0. 0. 0.]\n",
      " ...\n",
      " [0. 0. 1. 0.]\n",
      " [0. 0. 0. 1.]\n",
      " [0. 0. 1. 0.]]\n"
     ]
    }
   ],
   "source": [
    "print(\"x_train one hot encoding\")\n",
    "lst = []\n",
    "X_train = train_All_1\n",
    "for seq in X_train:\n",
    "    x = seq_to_mat(seq).tolist()\n",
    "    lst.extend(x)\n",
    "X_train = np.array(lst)\n",
    "print(X_train)\n",
    "\n",
    "\n"
   ],
   "metadata": {
    "collapsed": false,
    "pycharm": {
     "name": "#%%\n"
    }
   }
  },
  {
   "cell_type": "code",
   "execution_count": 37,
   "outputs": [
    {
     "name": "stdout",
     "output_type": "stream",
     "text": [
      "<class 'numpy.ndarray'>\n",
      "8\n",
      "16\n",
      "[[1. 0. 0. 0.]\n",
      " [0. 0. 1. 0.]\n",
      " [0. 1. 0. 0.]\n",
      " [0. 0. 0. 1.]\n",
      " [0. 1. 0. 0.]\n",
      " [1. 0. 0. 0.]\n",
      " [0. 0. 1. 0.]\n",
      " [0. 0. 0. 1.]\n",
      " [1. 0. 0. 0.]\n",
      " [0. 1. 0. 0.]\n",
      " [0. 0. 0. 1.]\n",
      " [0. 1. 0. 0.]\n",
      " [0. 0. 0. 1.]\n",
      " [0. 0. 0. 1.]\n",
      " [1. 0. 0. 0.]\n",
      " [0. 1. 0. 0.]]\n",
      "(16, 4)\n"
     ]
    }
   ],
   "source": [
    "# print(seq_to_mat(\"AGCTCAGT\"))\n",
    "print(type(seq_to_1hot(\"AGCTCAGT\")))\n",
    "\n",
    "x = seq_to_mat(\"AGCTCAGT\").tolist()\n",
    "print(len(x))\n",
    "y = seq_to_mat(\"ACTCTTAC\").tolist()\n",
    "x.extend(y)\n",
    "print(len(x))\n",
    "\n",
    "x = np.array(x)\n",
    "print(x)\n",
    "\n",
    "print(x.shape)"
   ],
   "metadata": {
    "collapsed": false,
    "pycharm": {
     "name": "#%%\n"
    }
   }
  },
  {
   "cell_type": "code",
   "execution_count": 32,
   "outputs": [
    {
     "name": "stdout",
     "output_type": "stream",
     "text": [
      "[-0.71239066  0.75376638 -0.04450308  0.45181234  1.34510171  0.53233789\n",
      "  1.3501879   0.86121137  1.47868574 -1.04537713 -0.78898902 -1.26160595\n",
      "  0.56284679 -0.24332625  0.9137407   0.31735092  0.12730328  2.15038297\n",
      "  0.60628866 -0.02677165 -0.98416078  1.19070527  0.95283061 -1.08718159\n",
      " -0.14521133]\n",
      "(25,)\n",
      "[[-0.71239066  0.75376638 -0.04450308  0.45181234  1.34510171  0.53233789\n",
      "   1.3501879   0.86121137  1.47868574 -1.04537713 -0.78898902 -1.26160595\n",
      "   0.56284679 -0.24332625  0.9137407   0.31735092  0.12730328  2.15038297\n",
      "   0.60628866 -0.02677165 -0.98416078  1.19070527  0.95283061 -1.08718159\n",
      "  -0.14521133]]\n",
      "(1, 25)\n",
      "[[[-0.71239066]\n",
      "  [ 0.75376638]\n",
      "  [-0.04450308]\n",
      "  [ 0.45181234]\n",
      "  [ 1.34510171]\n",
      "  [ 0.53233789]\n",
      "  [ 1.3501879 ]\n",
      "  [ 0.86121137]\n",
      "  [ 1.47868574]\n",
      "  [-1.04537713]\n",
      "  [-0.78898902]\n",
      "  [-1.26160595]\n",
      "  [ 0.56284679]\n",
      "  [-0.24332625]\n",
      "  [ 0.9137407 ]\n",
      "  [ 0.31735092]\n",
      "  [ 0.12730328]\n",
      "  [ 2.15038297]\n",
      "  [ 0.60628866]\n",
      "  [-0.02677165]\n",
      "  [-0.98416078]\n",
      "  [ 1.19070527]\n",
      "  [ 0.95283061]\n",
      "  [-1.08718159]\n",
      "  [-0.14521133]]]\n",
      "(1, 25, 1)\n"
     ]
    }
   ],
   "source": [
    "import numpy as np\n",
    "import keras\n",
    "# 固定随机数种子以复现结果\n",
    "seed=13\n",
    "np.random.seed(seed)\n",
    "\n",
    "# 创建 1 维向量，并扩展维度适应 Keras 对输入的要求， data_1d 的大小为 (1, 25, 1)\n",
    "data_1d = np.random.normal(size=25)\n",
    "print(data_1d)\n",
    "print(data_1d.shape)\n",
    "data_1d = np.expand_dims(data_1d, 0)\n",
    "print(data_1d)\n",
    "print(data_1d.shape)\n",
    "data_1d = np.expand_dims(data_1d, 2)\n",
    "print(data_1d)\n",
    "print(data_1d.shape)"
   ],
   "metadata": {
    "collapsed": false,
    "pycharm": {
     "name": "#%%\n"
    }
   }
  },
  {
   "cell_type": "code",
   "execution_count": 33,
   "outputs": [
    {
     "name": "stdout",
     "output_type": "stream",
     "text": [
      "[[ 0.8476372  -0.332788   -0.17554513  1.2284881   0.59770095]]\n",
      "Model: \"sequential_3\"\n",
      "_________________________________________________________________\n",
      "Layer (type)                 Output Shape              Param #   \n",
      "=================================================================\n",
      "convolution_1d_layer (Conv1D (None, 21, 1)             6         \n",
      "_________________________________________________________________\n",
      "max_pooling_layer (MaxPoolin (None, 17, 1)             0         \n",
      "_________________________________________________________________\n",
      "reshape_layer (Flatten)      (None, 17)                0         \n",
      "_________________________________________________________________\n",
      "full_connect_layer (Dense)   (None, 5)                 90        \n",
      "=================================================================\n",
      "Total params: 96\n",
      "Trainable params: 96\n",
      "Non-trainable params: 0\n",
      "_________________________________________________________________\n",
      "None\n"
     ]
    }
   ],
   "source": [
    "# 定义卷积层\n",
    "filters = 1 # 卷积核数量为 1\n",
    "kernel_size = 5 # 卷积核大小为 5\n",
    "convolution_1d_layer = keras.layers.convolutional.Conv1D(filters, kernel_size, strides=1, padding='valid', input_shape=(25, 1), activation=\"relu\", name=\"convolution_1d_layer\")\n",
    "\n",
    "# 定义最大化池化层\n",
    "max_pooling_layer = keras.layers.MaxPool1D(pool_size=5, strides=1, padding=\"valid\", name=\"max_pooling_layer\")\n",
    "\n",
    "# 平铺层，调整维度适应全链接层\n",
    "reshape_layer = keras.layers.core.Flatten(name=\"reshape_layer\")\n",
    "\n",
    "# 定义全链接层\n",
    "full_connect_layer = keras.layers.Dense(5, kernel_initializer=keras.initializers.RandomNormal(mean=0.0, stddev=0.1, seed=seed), bias_initializer=\"random_normal\", use_bias=True, name=\"full_connect_layer\")\n",
    "\n",
    "# 编译模型\n",
    "model = keras.Sequential()\n",
    "model.add(convolution_1d_layer)\n",
    "model.add(max_pooling_layer)\n",
    "model.add(reshape_layer)\n",
    "model.add(full_connect_layer)\n",
    "\n",
    "# 打印 full_connect_layer 层的输出\n",
    "output = keras.Model(inputs=model.input, outputs=model.get_layer('full_connect_layer').output).predict(data_1d)\n",
    "print(output)\n",
    "\n",
    "# 打印网络结构\n",
    "print(model.summary())"
   ],
   "metadata": {
    "collapsed": false,
    "pycharm": {
     "name": "#%%\n"
    }
   }
  },
  {
   "cell_type": "code",
   "execution_count": 36,
   "outputs": [
    {
     "name": "stdout",
     "output_type": "stream",
     "text": [
      "[4 6]\n",
      "[3 7]\n"
     ]
    }
   ],
   "source": [
    "import numpy as np\n",
    "\n",
    "a = np.array([[1,2],[3,4]])\n",
    "sum0 = np.sum(a, axis=0)\n",
    "sum1 = np.sum(a, axis=1)\n",
    "\n",
    "print(sum0)\n",
    "print(sum1)\n"
   ],
   "metadata": {
    "collapsed": false,
    "pycharm": {
     "name": "#%%\n"
    }
   }
  },
  {
   "cell_type": "code",
   "execution_count": 30,
   "outputs": [],
   "source": [
    "\n"
   ],
   "metadata": {
    "collapsed": false,
    "pycharm": {
     "name": "#%%\n"
    }
   }
  }
 ],
 "metadata": {
  "kernelspec": {
   "display_name": "Python 3",
   "language": "python",
   "name": "python3"
  },
  "language_info": {
   "codemirror_mode": {
    "name": "ipython",
    "version": 3
   },
   "file_extension": ".py",
   "mimetype": "text/x-python",
   "name": "python",
   "nbconvert_exporter": "python",
   "pygments_lexer": "ipython3",
   "version": "3.7.3"
  }
 },
 "nbformat": 4,
 "nbformat_minor": 1
}