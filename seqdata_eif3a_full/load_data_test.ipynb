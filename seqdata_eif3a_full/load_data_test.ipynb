{
 "cells": [
  {
   "cell_type": "code",
   "execution_count": 117,
   "metadata": {
    "collapsed": true
   },
   "outputs": [],
   "source": [
    "import numpy as np\n",
    "import pandas as pd\n",
    "from pandas import DataFrame,Series\n",
    "from sklearn.model_selection import train_test_split\n",
    "def seq_to_mat(seq):\n",
    "    seq_len = len(seq)\n",
    "    seq = seq.replace('A', '0')\n",
    "    seq = seq.replace('a', '0')\n",
    "    seq = seq.replace('C', '1')\n",
    "    seq = seq.replace('c', '1')\n",
    "    seq = seq.replace('G', '2')\n",
    "    seq = seq.replace('g', '2')\n",
    "    seq = seq.replace('T', '3')\n",
    "    seq = seq.replace('t', '3')\n",
    "    seq = seq.replace('U', '3')\n",
    "    seq = seq.replace('u', '3')\n",
    "    seq = seq.replace('N', '4')\n",
    "    seq = seq.replace('n', '4')\n",
    "    seq_code = np.zeros((4, seq_len), dtype='float16')\n",
    "    for i in range(seq_len):\n",
    "        if int(seq[i]) != 4:\n",
    "            seq_code[int(seq[i]), i] = 1\n",
    "        else:\n",
    "            seq_code[0:4, i] = np.tile(0.25, 4)\n",
    "    return np.transpose(seq_code)"
   ]
  },
  {
   "cell_type": "code",
   "execution_count": 118,
   "outputs": [
    {
     "name": "stdout",
     "output_type": "stream",
     "text": [
      "      Unnamed: 0   num                                  train_All  \\\n",
      "0              1     1  GTATGTGGGGCCGTGTGCAGACCCGCGTGTGGCGCAGGCAA   \n",
      "1              2     2  GGTGAGGGGGATGTGGCAGGACTATAAGGTAATGGTGGGGA   \n",
      "2              3     3  TTTTCCTTCCCCTAGCTTTGACTTTTCTTATGGTCTGTGAG   \n",
      "3              4     4  GTGAACTAACTTTACTTAAAACCGGGTTAAATGTTTGTTAC   \n",
      "4              5     5  CCGCACTGGCCTGGGAGCGGACCCCGGACTACACACGGCTT   \n",
      "...          ...   ...                                        ...   \n",
      "1205        1206  1206  TTTGGATGAGGTCTGGTAAGACTGAGACTTTTTAAATTTTG   \n",
      "1206        1207  1207  AATCGGAAATGACCAAAGGGACATTACCATCAACCCCACAG   \n",
      "1207        1208  1208  TCTGAGCAGTGTGGGGGAAGACCAGGGCTCTGGGCACGGCA   \n",
      "1208        1209  1209  ATCAGTAAAGGAAGTGAAAGACAGGATTGCATTTAATAGAT   \n",
      "1209        1210  1210  TGTAAGTTTCTCTTTTAAAAACTAAGCGGTCGAGCATGGTG   \n",
      "\n",
      "                                    testing_All  \n",
      "0     ACACCAAAATGCTGCAGTGAACATTCTTGCATGTACATGTT  \n",
      "1     TGAGAGGCTGTTTGACATAGACCAAAGAAGAAACTGGAAGA  \n",
      "2     CATCCCAGGAGAGAATGAGGACCCTGTCGGAATCATAAGGG  \n",
      "3     AAATTAGTATAAGTCATTAAACTAAAAAGATTTCTAAATGG  \n",
      "4     AGTACTACAGAATGGCAGGGACAGTGAAAATGAGCATTCTT  \n",
      "...                                         ...  \n",
      "1205                                        NaN  \n",
      "1206                                        NaN  \n",
      "1207                                        NaN  \n",
      "1208                                        NaN  \n",
      "1209                                        NaN  \n",
      "\n",
      "[1210 rows x 4 columns]\n"
     ]
    }
   ],
   "source": [
    "#####################\n",
    "##Load the data######\n",
    "#####################\n",
    "\n",
    "df = pd.read_csv('/Users/hopezhu/PycharmProjects/DL/seqdata_eif3a_full/eif3a_Full_20.csv')\n",
    "print(df)"
   ],
   "metadata": {
    "collapsed": false,
    "pycharm": {
     "name": "#%%\n"
    }
   }
  },
  {
   "cell_type": "code",
   "execution_count": 119,
   "outputs": [
    {
     "name": "stdout",
     "output_type": "stream",
     "text": [
      "1210\n"
     ]
    }
   ],
   "source": [
    "train_All_1 = df.iloc[:, 2]\n",
    "test_all_1 = df.iloc[:, 3]\n",
    "print(train_All_1.shape[0])\n",
    "# print(test_all_1)"
   ],
   "metadata": {
    "collapsed": false,
    "pycharm": {
     "name": "#%%\n"
    }
   }
  },
  {
   "cell_type": "code",
   "execution_count": 120,
   "outputs": [
    {
     "data": {
      "text/plain": "41"
     },
     "execution_count": 120,
     "metadata": {},
     "output_type": "execute_result"
    }
   ],
   "source": [
    "len(test_all_1[0])"
   ],
   "metadata": {
    "collapsed": false,
    "pycharm": {
     "name": "#%%\n"
    }
   }
  },
  {
   "cell_type": "code",
   "execution_count": 121,
   "outputs": [
    {
     "name": "stdout",
     "output_type": "stream",
     "text": [
      "['GTATGTGGGGCCGTGTGCAGACCCGCGTGTGGCGCAGGCAA'\n",
      " 'GGTGAGGGGGATGTGGCAGGACTATAAGGTAATGGTGGGGA'\n",
      " 'TTTTCCTTCCCCTAGCTTTGACTTTTCTTATGGTCTGTGAG' ...\n",
      " 'TCTGAGCAGTGTGGGGGAAGACCAGGGCTCTGGGCACGGCA'\n",
      " 'ATCAGTAAAGGAAGTGAAAGACAGGATTGCATTTAATAGAT'\n",
      " 'TGTAAGTTTCTCTTTTAAAAACTAAGCGGTCGAGCATGGTG']\n"
     ]
    }
   ],
   "source": [
    "X_train = np.array(train_All_1)\n",
    "X_train\n",
    "print(X_train)\n",
    "lt = []\n",
    "for seq in X_train:\n",
    "    x = seq_to_mat(seq)\n",
    "    lt.append(x)\n",
    "\n",
    "x_train = np.array(lt)\n",
    "# print(x_train)\n",
    "# print(x_train.shape)"
   ],
   "metadata": {
    "collapsed": false,
    "pycharm": {
     "name": "#%%\n"
    }
   }
  },
  {
   "cell_type": "code",
   "execution_count": 122,
   "outputs": [
    {
     "name": "stdout",
     "output_type": "stream",
     "text": [
      "302\n"
     ]
    }
   ],
   "source": [
    "test = DataFrame(test_all_1)\n",
    "test = test.dropna()\n",
    "\n",
    "print(test.shape[0])"
   ],
   "metadata": {
    "collapsed": false,
    "pycharm": {
     "name": "#%%\n"
    }
   }
  },
  {
   "cell_type": "code",
   "execution_count": 123,
   "outputs": [
    {
     "name": "stdout",
     "output_type": "stream",
     "text": [
      "0      ACACCAAAATGCTGCAGTGAACATTCTTGCATGTACATGTT\n",
      "1      TGAGAGGCTGTTTGACATAGACCAAAGAAGAAACTGGAAGA\n",
      "2      CATCCCAGGAGAGAATGAGGACCCTGTCGGAATCATAAGGG\n",
      "3      AAATTAGTATAAGTCATTAAACTAAAAAGATTTCTAAATGG\n",
      "4      AGTACTACAGAATGGCAGGGACAGTGAAAATGAGCATTCTT\n",
      "                         ...                    \n",
      "297    GACATGAGTAATCATTTTGAACAAAAGTTTATTAGAGTTTT\n",
      "298    AGGCAAATGGGTGGGGATAGACAGGAGATGGGCAGAGGTAG\n",
      "299    TTTATTATTTATTTATTGAGACAGGGTCTCACTCTGTCACC\n",
      "300    TAATTATTTCTAGATGCAAAACTAGTGAGTTTACCATGTTC\n",
      "301    TCTGCACTCTGGCCTGGGTGACAGAGCGACACTCCATCTCA\n",
      "Name: testing_All, Length: 302, dtype: object\n"
     ]
    }
   ],
   "source": [
    "lst_test = []\n",
    "x_val=test_all_1[0:test.shape[0],]\n",
    "# test_all_1[0:x_val.shape]\n",
    "# x_val\n",
    "#\n",
    "print(x_val)"
   ],
   "metadata": {
    "collapsed": false,
    "pycharm": {
     "name": "#%%\n"
    }
   }
  },
  {
   "cell_type": "code",
   "execution_count": 124,
   "outputs": [],
   "source": [
    "for seqs in x_val:\n",
    "    x = seq_to_mat(seqs)\n",
    "    lst_test.append(x)"
   ],
   "metadata": {
    "collapsed": false,
    "pycharm": {
     "name": "#%%\n"
    }
   }
  },
  {
   "cell_type": "code",
   "execution_count": 125,
   "outputs": [
    {
     "name": "stdout",
     "output_type": "stream",
     "text": [
      "[[[1. 0. 0. 0.]\n",
      "  [0. 1. 0. 0.]\n",
      "  [1. 0. 0. 0.]\n",
      "  ...\n",
      "  [0. 0. 1. 0.]\n",
      "  [0. 0. 0. 1.]\n",
      "  [0. 0. 0. 1.]]\n",
      "\n",
      " [[0. 0. 0. 1.]\n",
      "  [0. 0. 1. 0.]\n",
      "  [1. 0. 0. 0.]\n",
      "  ...\n",
      "  [1. 0. 0. 0.]\n",
      "  [0. 0. 1. 0.]\n",
      "  [1. 0. 0. 0.]]\n",
      "\n",
      " [[0. 1. 0. 0.]\n",
      "  [1. 0. 0. 0.]\n",
      "  [0. 0. 0. 1.]\n",
      "  ...\n",
      "  [0. 0. 1. 0.]\n",
      "  [0. 0. 1. 0.]\n",
      "  [0. 0. 1. 0.]]\n",
      "\n",
      " ...\n",
      "\n",
      " [[0. 0. 0. 1.]\n",
      "  [0. 0. 0. 1.]\n",
      "  [0. 0. 0. 1.]\n",
      "  ...\n",
      "  [1. 0. 0. 0.]\n",
      "  [0. 1. 0. 0.]\n",
      "  [0. 1. 0. 0.]]\n",
      "\n",
      " [[0. 0. 0. 1.]\n",
      "  [1. 0. 0. 0.]\n",
      "  [1. 0. 0. 0.]\n",
      "  ...\n",
      "  [0. 0. 0. 1.]\n",
      "  [0. 0. 0. 1.]\n",
      "  [0. 1. 0. 0.]]\n",
      "\n",
      " [[0. 0. 0. 1.]\n",
      "  [0. 1. 0. 0.]\n",
      "  [0. 0. 0. 1.]\n",
      "  ...\n",
      "  [0. 0. 0. 1.]\n",
      "  [0. 1. 0. 0.]\n",
      "  [1. 0. 0. 0.]]]\n"
     ]
    }
   ],
   "source": [
    "x_val = np.array(lst_test)\n",
    "print(x_val)"
   ],
   "metadata": {
    "collapsed": false,
    "pycharm": {
     "name": "#%%\n"
    }
   }
  },
  {
   "cell_type": "code",
   "execution_count": 126,
   "outputs": [
    {
     "name": "stdout",
     "output_type": "stream",
     "text": [
      "[1 1 1 ... 0 0 0]\n",
      "1210\n"
     ]
    }
   ],
   "source": [
    "y_train = np.array([1, 0])\n",
    "y_train = y_train.repeat(train_All_1.shape[0]/2)\n",
    "print(y_train)\n",
    "y_train = np.mat(y_train).transpose()\n",
    "print(len(y_train))"
   ],
   "metadata": {
    "collapsed": false,
    "pycharm": {
     "name": "#%%\n"
    }
   }
  },
  {
   "cell_type": "code",
   "execution_count": 127,
   "outputs": [
    {
     "name": "stdout",
     "output_type": "stream",
     "text": [
      "[[[0. 1. 0. 0.]\n",
      "  [0. 1. 0. 0.]\n",
      "  [0. 1. 0. 0.]\n",
      "  ...\n",
      "  [0. 0. 1. 0.]\n",
      "  [1. 0. 0. 0.]\n",
      "  [0. 0. 0. 1.]]\n",
      "\n",
      " [[1. 0. 0. 0.]\n",
      "  [0. 0. 1. 0.]\n",
      "  [0. 0. 0. 1.]\n",
      "  ...\n",
      "  [0. 1. 0. 0.]\n",
      "  [1. 0. 0. 0.]\n",
      "  [0. 0. 0. 1.]]\n",
      "\n",
      " [[0. 0. 0. 1.]\n",
      "  [1. 0. 0. 0.]\n",
      "  [1. 0. 0. 0.]\n",
      "  ...\n",
      "  [0. 0. 1. 0.]\n",
      "  [0. 0. 0. 1.]\n",
      "  [0. 0. 1. 0.]]\n",
      "\n",
      " ...\n",
      "\n",
      " [[1. 0. 0. 0.]\n",
      "  [1. 0. 0. 0.]\n",
      "  [1. 0. 0. 0.]\n",
      "  ...\n",
      "  [0. 0. 1. 0.]\n",
      "  [1. 0. 0. 0.]\n",
      "  [1. 0. 0. 0.]]\n",
      "\n",
      " [[0. 0. 0. 1.]\n",
      "  [1. 0. 0. 0.]\n",
      "  [0. 0. 0. 1.]\n",
      "  ...\n",
      "  [0. 0. 1. 0.]\n",
      "  [0. 1. 0. 0.]\n",
      "  [1. 0. 0. 0.]]\n",
      "\n",
      " [[1. 0. 0. 0.]\n",
      "  [0. 1. 0. 0.]\n",
      "  [0. 1. 0. 0.]\n",
      "  ...\n",
      "  [1. 0. 0. 0.]\n",
      "  [1. 0. 0. 0.]\n",
      "  [1. 0. 0. 0.]]]\n",
      "(1210, 41, 4)\n",
      "(151, 41, 4)\n",
      "(151, 1)\n",
      "(1210, 1)\n",
      "(151, 1)\n"
     ]
    }
   ],
   "source": [
    "y_val = np.array([1, 0])\n",
    "y_val = y_val.repeat(test.shape[0]/2)\n",
    "# print(y_val)\n",
    "y_val = np.mat(y_val).transpose()\n",
    "# print(len(y_val))\n",
    "\n",
    "x_val, x_test, y_val, y_test = train_test_split(x_val, y_val, test_size=0.5)\n",
    "print(x_val)\n",
    "print(x_train.shape)\n",
    "print(x_test.shape)\n",
    "print(y_val.shape)\n",
    "print(y_train.shape)\n",
    "print(y_test.shape)\n",
    "\n",
    "\n"
   ],
   "metadata": {
    "collapsed": false,
    "pycharm": {
     "name": "#%%\n"
    }
   }
  },
  {
   "cell_type": "code",
   "execution_count": 130,
   "outputs": [
    {
     "data": {
      "text/plain": "41"
     },
     "execution_count": 130,
     "metadata": {},
     "output_type": "execute_result"
    }
   ],
   "source": [
    "len(\"ACACCAAAATGCTGCAGTGAACATTCTTGCATGTACATGTT\")"
   ],
   "metadata": {
    "collapsed": false,
    "pycharm": {
     "name": "#%%\n"
    }
   }
  },
  {
   "cell_type": "code",
   "execution_count": 131,
   "outputs": [
    {
     "data": {
      "text/plain": "81"
     },
     "execution_count": 131,
     "metadata": {},
     "output_type": "execute_result"
    }
   ],
   "source": [
    "len('CCAAACCTTTGCTGCTACAAACACCAAAATGCTGCAGTGAACATTCTTGCATGTACATGTTTACATACATATGCAGTATAA')"
   ],
   "metadata": {
    "collapsed": false,
    "pycharm": {
     "name": "#%%\n"
    }
   }
  },
  {
   "cell_type": "code",
   "execution_count": 132,
   "outputs": [
    {
     "data": {
      "text/plain": "121"
     },
     "execution_count": 132,
     "metadata": {},
     "output_type": "execute_result"
    }
   ],
   "source": [
    "len('GGCCGCGTGGGCGAGGCGGAGGAGAGCCGTGCGCAGCGGCGTATGTGGGGCCGTGTGCAGACCCGCGTGTGGCGCAGGCAAGGACCCTCAAAATAAACAGCCTCTACCTTGCGAGCCGTCT')"
   ],
   "metadata": {
    "collapsed": false,
    "pycharm": {
     "name": "#%%\n"
    }
   }
  },
  {
   "cell_type": "code",
   "execution_count": 133,
   "outputs": [
    {
     "data": {
      "text/plain": "41"
     },
     "execution_count": 133,
     "metadata": {},
     "output_type": "execute_result"
    }
   ],
   "source": [
    "len('GTATGTGGGGCCGTGTGCAGACCCGCGTGTGGCGCAGGCAA')"
   ],
   "metadata": {
    "collapsed": false,
    "pycharm": {
     "name": "#%%\n"
    }
   }
  },
  {
   "cell_type": "code",
   "execution_count": 134,
   "outputs": [
    {
     "data": {
      "text/plain": "161"
     },
     "execution_count": 134,
     "metadata": {},
     "output_type": "execute_result"
    }
   ],
   "source": [
    "len('CCGAACCCCGCGCGCTGATTGGCCGCGTGGGCGAGGCGGAGGAGAGCCGTGCGCAGCGGCGTATGTGGGGCCGTGTGCAGACCCGCGTGTGGCGCAGGCAAGGACCCTCAAAATAAACAGCCTCTACCTTGCGAGCCGTCTTCCCCAGGCCTGCGTCCGAG')"
   ],
   "metadata": {
    "collapsed": false,
    "pycharm": {
     "name": "#%%\n"
    }
   }
  },
  {
   "cell_type": "code",
   "execution_count": null,
   "outputs": [],
   "source": [
    "\n"
   ],
   "metadata": {
    "collapsed": false,
    "pycharm": {
     "name": "#%%\n"
    }
   }
  }
 ],
 "metadata": {
  "kernelspec": {
   "display_name": "Python 3",
   "language": "python",
   "name": "python3"
  },
  "language_info": {
   "codemirror_mode": {
    "name": "ipython",
    "version": 2
   },
   "file_extension": ".py",
   "mimetype": "text/x-python",
   "name": "python",
   "nbconvert_exporter": "python",
   "pygments_lexer": "ipython2",
   "version": "2.7.6"
  }
 },
 "nbformat": 4,
 "nbformat_minor": 0
}