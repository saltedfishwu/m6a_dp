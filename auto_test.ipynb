{
 "cells": [
  {
   "cell_type": "code",
   "execution_count": 3,
   "outputs": [],
   "source": [
    "import pandas as pd\n",
    "import numpy as np\n",
    "from pandas import DataFrame\n"
   ],
   "metadata": {
    "collapsed": false,
    "pycharm": {
     "name": "#%%\n"
    }
   }
  },
  {
   "cell_type": "code",
   "execution_count": 59,
   "outputs": [
    {
     "name": "stdout",
     "output_type": "stream",
     "text": [
      "      Unnamed: 0   num  UTR5.x  Start_codons.x  TSS.x  TSS_A.x  exon_stop.x  \\\n",
      "0              1     1    True           False  False    False         True   \n",
      "1              2     2   False           False  False    False         True   \n",
      "2              3     3    True           False  False    False         True   \n",
      "3              4     4    True           False  False    False         True   \n",
      "4              5     5    True           False  False    False         True   \n",
      "...          ...   ...     ...             ...    ...      ...          ...   \n",
      "1205        1206  1206   False           False  False    False        False   \n",
      "1206        1207  1207   False           False  False    False        False   \n",
      "1207        1208  1208   False           False  False    False        False   \n",
      "1208        1209  1209   False           False  False    False        False   \n",
      "1209        1210  1210   False           False  False    False        False   \n",
      "\n",
      "      alternative_exon.x  constitutive_exon.x  internal_exon.x  ...  X57.y  \\\n",
      "0                  False                 True            False  ...    0.0   \n",
      "1                  False                False            False  ...    1.0   \n",
      "2                  False                 True            False  ...    1.0   \n",
      "3                  False                 True            False  ...    1.0   \n",
      "4                  False                 True            False  ...    0.0   \n",
      "...                  ...                  ...              ...  ...    ...   \n",
      "1205               False                False            False  ...    NaN   \n",
      "1206               False                False            False  ...    NaN   \n",
      "1207               False                False            False  ...    NaN   \n",
      "1208               False                False            False  ...    NaN   \n",
      "1209               False                False            False  ...    NaN   \n",
      "\n",
      "      X58.y  X59.y  X60.y  X61.y  X62.y  X63.y  X64.y  X65.y  class.y  \n",
      "0       1.0    0.0    0.0    1.0    1.0    1.0    0.0    1.0      0.0  \n",
      "1       1.0    1.0    1.0    1.0    1.0    1.0    0.0    1.0      0.0  \n",
      "2       1.0    1.0    1.0    1.0    1.0    1.0    0.0    1.0      0.0  \n",
      "3       1.0    0.0    0.0    1.0    1.0    1.0    0.0    1.0      0.0  \n",
      "4       1.0    1.0    1.0    1.0    1.0    1.0    0.0    1.0      0.0  \n",
      "...     ...    ...    ...    ...    ...    ...    ...    ...      ...  \n",
      "1205    NaN    NaN    NaN    NaN    NaN    NaN    NaN    NaN      NaN  \n",
      "1206    NaN    NaN    NaN    NaN    NaN    NaN    NaN    NaN      NaN  \n",
      "1207    NaN    NaN    NaN    NaN    NaN    NaN    NaN    NaN      NaN  \n",
      "1208    NaN    NaN    NaN    NaN    NaN    NaN    NaN    NaN      NaN  \n",
      "1209    NaN    NaN    NaN    NaN    NaN    NaN    NaN    NaN      NaN  \n",
      "\n",
      "[1210 rows x 214 columns]\n"
     ]
    }
   ],
   "source": [
    "    df = pd.read_csv('eif3a_full_test_m6aReader_1_0.csv')\n",
    "    print(df)"
   ],
   "metadata": {
    "collapsed": false,
    "pycharm": {
     "name": "#%%\n"
    }
   }
  },
  {
   "cell_type": "code",
   "execution_count": 60,
   "outputs": [],
   "source": [
    "    n = len(df.columns)\n",
    "    train = int(n / 2)\n",
    "    x_train = df.iloc[:, 2:train]\n",
    "\n",
    "    x_test = df.iloc[:, (train + 1):(n - 1)]\n",
    "    x_test = DataFrame(x_test)\n",
    "    x_test = x_test.dropna()\n",
    "    # print(x_test)\n",
    "\n",
    "    x_train = np.expand_dims(x_train, axis=1)\n",
    "    x_test = np.expand_dims(x_test, axis=1)"
   ],
   "metadata": {
    "collapsed": false,
    "pycharm": {
     "name": "#%%\n"
    }
   }
  },
  {
   "cell_type": "code",
   "execution_count": 61,
   "outputs": [
    {
     "name": "stdout",
     "output_type": "stream",
     "text": [
      "      class.x\n",
      "0           0\n",
      "1           0\n",
      "2           0\n",
      "3           0\n",
      "4           0\n",
      "...       ...\n",
      "1205        1\n",
      "1206        1\n",
      "1207        1\n",
      "1208        1\n",
      "1209        1\n",
      "\n",
      "[1210 rows x 1 columns]\n"
     ]
    }
   ],
   "source": [
    "    y_train = df.iloc[:,train:train+1]\n",
    "    y_test = df.iloc[:, (n-1):]\n",
    "    y_test=DataFrame(y_test)\n",
    "    y_test = y_test.dropna()\n",
    "    y_test=DataFrame(y_test,dtype=int)\n",
    "    # pd.DataFrame(y_test['class.y'].value_counts())"
   ],
   "metadata": {
    "collapsed": false,
    "pycharm": {
     "name": "#%%\n"
    }
   }
  },
  {
   "cell_type": "code",
   "execution_count": 63,
   "outputs": [
    {
     "name": "stdout",
     "output_type": "stream",
     "text": [
      "(151, 1, 105)\n",
      "(151, 1, 105)\n",
      "(151, 1)\n",
      "(151, 1)\n"
     ]
    }
   ],
   "source": [
    "from sklearn.model_selection import train_test_split\n",
    "x_val, x_test,y_val,y_test = train_test_split(x_test,y_test, test_size=0.5)\n",
    "\n",
    "print(x_val.shape)\n",
    "print(x_test.shape)\n",
    "print(y_val.shape)\n",
    "print(y_test.shape)"
   ],
   "metadata": {
    "collapsed": false,
    "pycharm": {
     "name": "#%%\n"
    }
   }
  },
  {
   "cell_type": "code",
   "execution_count": 64,
   "outputs": [
    {
     "name": "stdout",
     "output_type": "stream",
     "text": [
      "(151, 1, 105)\n",
      "(1210, 1, 105)\n",
      "(151, 1)\n",
      "(1210, 1)\n"
     ]
    }
   ],
   "source": [
    "\n",
    "    print(x_test.shape)\n",
    "    print(x_train.shape)\n",
    "    print(y_test.shape)\n",
    "    print(y_train.shape)\n",
    "\n"
   ],
   "metadata": {
    "collapsed": false,
    "pycharm": {
     "name": "#%%\n"
    }
   }
  },
  {
   "cell_type": "code",
   "execution_count": 5,
   "outputs": [
    {
     "data": {
      "text/plain": "(1000, 100)"
     },
     "execution_count": 5,
     "metadata": {},
     "output_type": "execute_result"
    }
   ],
   "source": [
    "data = np.random.random((1000, 100))\n",
    "data.shape"
   ],
   "metadata": {
    "collapsed": false,
    "pycharm": {
     "name": "#%%\n"
    }
   }
  },
  {
   "cell_type": "code",
   "execution_count": null,
   "outputs": [],
   "source": [
    "    \n"
   ],
   "metadata": {
    "collapsed": false,
    "pycharm": {
     "name": "#%%\n"
    }
   }
  }
 ],
 "metadata": {
  "kernelspec": {
   "display_name": "Python 3",
   "language": "python",
   "name": "python3"
  },
  "language_info": {
   "codemirror_mode": {
    "name": "ipython",
    "version": 2
   },
   "file_extension": ".py",
   "mimetype": "text/x-python",
   "name": "python",
   "nbconvert_exporter": "python",
   "pygments_lexer": "ipython2",
   "version": "2.7.6"
  }
 },
 "nbformat": 4,
 "nbformat_minor": 0
}