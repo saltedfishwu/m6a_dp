{
 "cells": [
  {
   "cell_type": "code",
   "execution_count": 4,
   "outputs": [],
   "source": [
    "import sys\n",
    "import os\n",
    "import pandas as pd\n",
    "import numpy as np"
   ],
   "metadata": {
    "collapsed": false,
    "pycharm": {
     "name": "#%%\n"
    }
   }
  },
  {
   "cell_type": "code",
   "execution_count": 5,
   "outputs": [],
   "source": [
    "def seq_to_mat(seq):\n",
    "    seq_len = len(seq)\n",
    "    seq = seq.replace('A','0')\n",
    "    seq = seq.replace('a','0')\n",
    "    seq = seq.replace('C','1')\n",
    "    seq = seq.replace('c','1')\n",
    "    seq = seq.replace('G','2')\n",
    "    seq = seq.replace('g','2')\n",
    "    seq = seq.replace('T','3')\n",
    "    seq = seq.replace('t','3')\n",
    "    seq = seq.replace('U','3')\n",
    "    seq = seq.replace('u','3')\n",
    "    seq = seq.replace('N','4') #some cases have N in sequence\n",
    "    seq = seq.replace('n','4')\n",
    "    seq_code = np.zeros((4,seq_len), dtype='float16')\n",
    "    for i in range(seq_len):\n",
    "        if int(seq[i]) != 4:\n",
    "            seq_code[int(seq[i]),i] = 1\n",
    "        else:\n",
    "            seq_code[0:4,i] = np.tile(0.25,4)\n",
    "    return np.transpose(seq_code)"
   ],
   "metadata": {
    "collapsed": false,
    "pycharm": {
     "name": "#%%\n"
    }
   }
  },
  {
   "cell_type": "code",
   "execution_count": 11,
   "outputs": [
    {
     "name": "stdout",
     "output_type": "stream",
     "text": [
      "0     CTCGGGAGGCGGCGAAGGCGGTCCACCCTGCGCGTGATCCTTTATG...\n",
      "1     GCTGGCGACGGGGGCAGAAGCGACGAGAGGCGCGCTCGGCACCCGC...\n",
      "2     GCGCATGCTCCGGCCCCGGCGGGTTATAAGGCAGCCTCGCTGGCCC...\n",
      "3     GAGTCCATATAGCTACATTCCACCCTTGTATCCTGGGTCTTAGAGA...\n",
      "4     GGTCTTCCCCCGTAAGGAAATGGCCGGGGAGCTCCAGGGGACCCAG...\n",
      "5     GTTCCAGCATCCTTCACCACGTGGCAGGAGTCTGCCACAGAGAGGT...\n",
      "6     TGTCACCGCTGGAGACGGTTGGGAGAACCGTTGTGGCGAGCGCTAC...\n",
      "7     GATAAAAGGGGGCTGAGGAAATACCGGACACGGTCACCCGTTGCCA...\n",
      "8     GAAGTTTCTAGCCGGCCAGTTGCTACCTCCCTTTATCTCCTCCTTC...\n",
      "9     AATGTGAAGAGAGCGACCGCCGCTCCAGGGTCGCTGCAGGAAGCCT...\n",
      "10    ACACGCAGCCCACGGTCTGTACTGACGCGCCCTCGCTTCTTCCTCT...\n",
      "11    GCGGGCGGCGGCCGGGCTGGGCCGCGCCGGTGCGGGCTGGCGACTC...\n",
      "12    GCCAGCAAAGAATTATCCCTGGTTTTTGTGCTTTGCAGCATTCCTC...\n",
      "13    TGCCTGCATTGCAATAAAGGACTCATTTATTGAGCAAGACTTATAT...\n",
      "14    GTTACTGCTGCTTACCGTTCAGAGACTTACAGGTGCTTGCCTGCAT...\n",
      "15    GTTGGCCGAGGGGGCCGTACGGAGGTGGCAGCTGTGGGAGGAGGCG...\n",
      "16    CGCCCTCGCGCGGGAGCTGGGAGGCTGCGAGATCCCTACCGCAGTA...\n",
      "17    CTGGGATGAGGGCACCTGGGGGACCAGAAGCTGGGCTAGGTCCTCA...\n",
      "18    CTACTCACTGGAGCTCAGCTTTGATTTTTAACCTCCCTTCCCCACC...\n",
      "19    GCAGCAAGGCGAACCCCATCCCTACTCACTGGAGCTCAGCTTTGAT...\n",
      "20    CTTCTTTTCCGACAAAACACGTGAGTCCTGTTGGTCGCTGCAGCGG...\n",
      "21    AGCTCCGCGCGCGTTCACGGGCCGTTCCCCCTCACGGGAGTCCTCC...\n",
      "22    GACCGAAGGGAAGAAGCTGCGCCGTGTCGTCCGTCTCCCTGCGCGC...\n",
      "23    GGGCTCAGGCGTCGTCGTTTGGGTGGGGGGCCGCTGAACTGACAAG...\n",
      "24    ACTTCATTGAATATTAGAAAATTTTTCTAGAGAGAAAGCATTGAAT...\n",
      "25    GCCGCCCTAGCCACGTCCCCTCGCAGTTCGGCGGTCCCGCGGGTCT...\n",
      "26    ACGTCCCCTCGCAGTTCGGCGGTCCCGCGGGTCTGTCTCTTGCTTC...\n",
      "27    CTCAGGCCCTCCGCGAGGCCGGCCCTTTTTTTCTTTCACTTTCCCC...\n",
      "28    CCGAGCCTCGCGCGCTTGCGCACTTTAGCCAGCGCAGGGCGCACCC...\n",
      "29    CTGGCTGGTAACCGCTACTCCCGGACACCAGACCACCGCCTTCCGT...\n",
      "30    CCCTTATCCCTGGCAGCTTCCGCTAAACGGGCTCAGAGCCACGCGG...\n",
      "31    GTCTTTCTAGGTCTCAGCCGGTCGTCGCGACGTTCGCCCGCTCGCT...\n",
      "32    CGTCCTGCTCTCCCGCGTGGGCTTCTCTAATTCCATTGTTTTTTTT...\n",
      "33    TATAAAGTAAAGGAACCCGAGATCTGCGCAGGGGTTCCCTTTGCCG...\n",
      "34    TCTAGGGCAGGCGGGCGGGTTTGAGAGGGCGGGGATTGCGACTCTC...\n",
      "35    CAAGGACGTCTCCAGGGGAAAGGGAGTTGGAAGCAAACTTGGTCCA...\n",
      "36    TCCCCTCCTCTCCAGGCCTGCGCGCGCGCCTCTTCCTCCGGCACGC...\n",
      "37    CGAAGAGACCGACACAGAGAAGGAAACGAGGAGGAGGATGTCTCAC...\n",
      "38    ACCGACACAGAGAAGGAAACGAGGAGGAGGATGTCTCACCGGGCGG...\n",
      "39    TTGCGCCCGCCCGCGCCACTTCCGACTCAGCCCTCGGTTCAGGTTC...\n",
      "40    GGCGCCCGGCTTGTGCTCAGACCTCGCGCTTGCGGCGCCCAGGCCC...\n",
      "41    GGGCCGCGCCGAGGCAGCTGGCTGACTCCAGTTTAGCCGCCGCCGG...\n",
      "42    CCGCCGGGTGATGCGGTGACCGCTGCGGCAGGCCCAGGAGCTGAGT...\n",
      "43    CAGCGGTCTCCCGCCCGCGGCGCCATCGCGCCATTCCTAGTTAAGG...\n",
      "44    CCGGAAGTGGGTGGTGGCGGGGACGCAGCGGCTCCCTCCCGGAAAG...\n",
      "Name: testing_All, dtype: object\n"
     ]
    }
   ],
   "source": [
    "    df = pd.read_csv(\"eif3a_full_150.csv\")\n",
    "    # print(df)\n",
    "\n",
    "\n",
    "\n",
    "    train_All_1 = df.iloc[:, 2]\n",
    "    test_all_1 = df.iloc[:, 3]\n",
    "\n",
    "    pos_train_seq = train_All_1[0:711, ]\n",
    "    neg_train_seq = train_All_1[711:, ]\n",
    "\n",
    "    pos_test_seq = test_all_1[0:45, ]\n",
    "    neg_test_seq = test_all_1[45:90, ]\n",
    "\n",
    "    print(pos_test_seq)"
   ],
   "metadata": {
    "collapsed": false,
    "pycharm": {
     "name": "#%%\n"
    }
   }
  },
  {
   "cell_type": "code",
   "execution_count": 9,
   "outputs": [],
   "source": [
    "def convert_seq_to_bicoding(seq,wsize=101):\n",
    "    #return bicoding for a sequence\n",
    "    seq=seq.replace('U','T') #turn rna seq to dna seq if have\n",
    "    feat_bicoding=[]\n",
    "    bicoding_dict={'A':[1,0,0,0],'C':[0,1,0,0],'G':[0,0,1,0],'T':[0,0,0,1],'N':[0,0,0,0]}\n",
    "    if len(seq)<101:\n",
    "        seq=seq+'N'*(101-len(seq))\n",
    "    for each_nt in seq:\n",
    "        feat_bicoding+=bicoding_dict[each_nt]\n",
    "    return feat_bicoding"
   ],
   "metadata": {
    "collapsed": false,
    "pycharm": {
     "name": "#%%\n"
    }
   }
  },
  {
   "cell_type": "code",
   "execution_count": 13,
   "outputs": [
    {
     "data": {
      "text/plain": "[0,\n 1,\n 0,\n 0,\n 0,\n 0,\n 0,\n 1,\n 0,\n 1,\n 0,\n 0,\n 0,\n 0,\n 1,\n 0,\n 0,\n 0,\n 1,\n 0,\n 0,\n 0,\n 1,\n 0,\n 1,\n 0,\n 0,\n 0,\n 0,\n 0,\n 1,\n 0,\n 0,\n 0,\n 1,\n 0,\n 0,\n 1,\n 0,\n 0,\n 0,\n 0,\n 1,\n 0,\n 0,\n 0,\n 1,\n 0,\n 0,\n 1,\n 0,\n 0,\n 0,\n 0,\n 1,\n 0,\n 1,\n 0,\n 0,\n 0,\n 1,\n 0,\n 0,\n 0,\n 0,\n 0,\n 1,\n 0,\n 0,\n 0,\n 1,\n 0,\n 0,\n 1,\n 0,\n 0,\n 0,\n 0,\n 1,\n 0,\n 0,\n 0,\n 1,\n 0,\n 0,\n 0,\n 0,\n 1,\n 0,\n 1,\n 0,\n 0,\n 0,\n 1,\n 0,\n 0,\n 1,\n 0,\n 0,\n 0,\n 0,\n 1,\n 0,\n 0,\n 0,\n 1,\n 0,\n 0,\n 0,\n 1,\n 0,\n 0,\n 0,\n 0,\n 0,\n 1,\n 0,\n 0,\n 1,\n 0,\n 0,\n 1,\n 0,\n 0,\n 0,\n 0,\n 1,\n 0,\n 0,\n 1,\n 0,\n 0,\n 0,\n 0,\n 1,\n 0,\n 0,\n 0,\n 0,\n 1,\n 0,\n 0,\n 1,\n 0,\n 1,\n 0,\n 0,\n 0,\n 0,\n 0,\n 0,\n 1,\n 0,\n 1,\n 0,\n 0,\n 0,\n 1,\n 0,\n 0,\n 0,\n 0,\n 0,\n 1,\n 0,\n 0,\n 0,\n 1,\n 0,\n 0,\n 0,\n 1,\n 1,\n 0,\n 0,\n 0,\n 0,\n 0,\n 0,\n 1,\n 0,\n 0,\n 1,\n 0,\n 0,\n 1,\n 0,\n 0,\n 0,\n 1,\n 0,\n 0,\n 0,\n 1,\n 0,\n 0,\n 0,\n 0,\n 1,\n 0,\n 0,\n 0,\n 1,\n 0,\n 0,\n 1,\n 0,\n 0,\n 0,\n 1,\n 0,\n 0,\n 0,\n 1,\n 0,\n 0,\n 0,\n 1,\n 0,\n 0,\n 0,\n 0,\n 0,\n 1,\n 0,\n 0,\n 1,\n 0,\n 0,\n 1,\n 0,\n 0,\n 0,\n 1,\n 0,\n 0,\n 0,\n 1,\n 0,\n 0,\n 0,\n 1,\n 0,\n 0,\n 0,\n 0,\n 0,\n 1,\n 0,\n 1,\n 0,\n 0,\n 0,\n 1,\n 0,\n 0,\n 0,\n 1,\n 0,\n 0,\n 0,\n 0,\n 0,\n 1,\n 0,\n 1,\n 0,\n 0,\n 0,\n 1,\n 0,\n 0,\n 0,\n 0,\n 1,\n 0,\n 0,\n 0,\n 1,\n 0,\n 0,\n 0,\n 1,\n 0,\n 0,\n 0,\n 0,\n 1,\n 0,\n 0,\n 1,\n 0,\n 0,\n 0,\n 1,\n 0,\n 1,\n 0,\n 0,\n 0,\n 1,\n 0,\n 0,\n 0,\n 0,\n 1,\n 0,\n 0,\n 0,\n 0,\n 0,\n 1,\n 0,\n 0,\n 0,\n 1,\n 0,\n 1,\n 0,\n 0,\n 0,\n 1,\n 0,\n 0,\n 0,\n 1,\n 0,\n 0,\n 0,\n 1,\n 0,\n 0,\n 0,\n 1,\n 0,\n 0,\n 0,\n 0,\n 0,\n 1,\n 0,\n 1,\n 0,\n 0,\n 1,\n 0,\n 0,\n 0,\n 0,\n 1,\n 0,\n 0,\n 0,\n 1,\n 0,\n 0,\n 0,\n 0,\n 1,\n 0,\n 0,\n 1,\n 0,\n 0,\n 0,\n 1,\n 0,\n 0,\n 1,\n 0,\n 0,\n 0,\n 0,\n 0,\n 1,\n 0,\n 1,\n 0,\n 0,\n 0,\n 0,\n 1,\n 0,\n 0,\n 0,\n 0,\n 0,\n 1,\n 0,\n 0,\n 0,\n 1,\n 1,\n 0,\n 0,\n 0,\n 1,\n 0,\n 0,\n 0,\n 0,\n 0,\n 1,\n 0,\n 0,\n 1,\n 0,\n 0,\n 0,\n 0,\n 0,\n 1,\n 0,\n 0,\n 1,\n 0,\n 1,\n 0,\n 0,\n 0,\n 0,\n 0,\n 1,\n 0,\n 0,\n 0,\n 1,\n 0,\n 1,\n 0,\n 0,\n 0,\n 0,\n 0,\n 0,\n 1,\n 0,\n 1,\n 0,\n 0,\n 0,\n 0,\n 1,\n 0,\n 0,\n 0,\n 0,\n 1,\n 0,\n 0,\n 0,\n 1,\n 0,\n 0,\n 1,\n 0,\n 0,\n 0,\n 1,\n 0,\n 1,\n 0,\n 0,\n 0,\n 0,\n 0,\n 0,\n 1,\n 0,\n 1,\n 0,\n 0,\n 0,\n 0,\n 0,\n 1,\n 0,\n 1,\n 0,\n 0,\n 0,\n 0,\n 0,\n 1,\n 0,\n 0,\n 1,\n 0,\n 0,\n 0,\n 1,\n 0,\n 0,\n 1,\n 0,\n 0,\n 0,\n 0,\n 1,\n 0,\n 0,\n 0,\n 1,\n 0,\n 0,\n 0,\n 1,\n 0,\n 0,\n 0,\n 1,\n 0,\n 0,\n 0,\n 0,\n 1,\n 0,\n 0,\n 1,\n 0,\n 0,\n 1,\n 0,\n 0,\n 1,\n 0,\n 0,\n 0,\n 0,\n 0,\n 1,\n 0,\n 1,\n 0,\n 0,\n 0,\n 1,\n 0,\n 0,\n 0,\n 0,\n 1,\n 0,\n 0,\n 0,\n 0,\n 0,\n 1,\n 0,\n 0,\n 1,\n 0,\n 1,\n 0,\n 0,\n 0,\n 0,\n 0,\n 1,\n 0,\n 0,\n 1,\n 0,\n 0,\n 0,\n 1,\n 0,\n 0,\n 0,\n 1,\n 0,\n 0,\n 1,\n 0,\n 0,\n 0,\n 0,\n 0,\n 1,\n 0,\n 0,\n 0,\n 1,\n 0,\n 0,\n 1,\n 0,\n 0,\n 0,\n 1,\n 0,\n 0,\n 1,\n 0,\n 0,\n 0,\n 0,\n 1,\n 0,\n 0,\n 1,\n 0,\n 0,\n 0]"
     },
     "execution_count": 13,
     "metadata": {},
     "output_type": "execute_result"
    }
   ],
   "source": [
    "convert_seq_to_bicoding(pos_test_seq[0])"
   ],
   "metadata": {
    "collapsed": false,
    "pycharm": {
     "name": "#%%\n"
    }
   }
  },
  {
   "cell_type": "code",
   "execution_count": null,
   "outputs": [],
   "source": [
    "    lst = []\n",
    "    X_train = np.array(train_All_1)\n",
    "    X_train = train_All_1\n",
    "\n",
    "    for seq in X_train:\n",
    "        x = seq_to_mat(seq).tolist()\n",
    "        lst.extend(x)\n",
    "\n",
    "    X_train = np.array(lst)\n",
    "\n",
    "    lsts = []\n",
    "    X_test = np.array(test_all_1[0:90])\n",
    "\n",
    "    for seqs in X_test:\n",
    "        x = seq_to_mat(seqs).tolist()\n",
    "        lsts.extend(x)\n",
    "\n",
    "    X_test = np.array(lsts)\n",
    "\n",
    "    y_train = np.array([\"positive\", \"negative\"])\n",
    "    y_train = y_train.repeat(711)\n",
    "    y_train = np.mat(y_train).transpose()\n",
    "\n",
    "    y_test = np.array([\"positive\", \"negative\"])\n",
    "    y_test = y_test.repeat(45)\n",
    "    y_test = np.mat(y_test).transpose()\n",
    "\n",
    "\n"
   ],
   "metadata": {
    "collapsed": false,
    "pycharm": {
     "name": "#%%\n"
    }
   }
  },
  {
   "cell_type": "code",
   "execution_count": 2,
   "outputs": [
    {
     "ename": "FileNotFoundError",
     "evalue": "[Errno 2] File eif3a_full.csv does not exist: 'eif3a_full.csv'",
     "output_type": "error",
     "traceback": [
      "\u001B[0;31m---------------------------------------------------------------------------\u001B[0m",
      "\u001B[0;31mFileNotFoundError\u001B[0m                         Traceback (most recent call last)",
      "\u001B[0;32m<ipython-input-2-42943ce7353c>\u001B[0m in \u001B[0;36m<module>\u001B[0;34m\u001B[0m\n\u001B[1;32m      2\u001B[0m \u001B[0;32mimport\u001B[0m \u001B[0mnumpy\u001B[0m \u001B[0;32mas\u001B[0m \u001B[0mnp\u001B[0m\u001B[0;34m\u001B[0m\u001B[0;34m\u001B[0m\u001B[0m\n\u001B[1;32m      3\u001B[0m \u001B[0;34m\u001B[0m\u001B[0m\n\u001B[0;32m----> 4\u001B[0;31m \u001B[0mdf\u001B[0m \u001B[0;34m=\u001B[0m \u001B[0mpd\u001B[0m\u001B[0;34m.\u001B[0m\u001B[0mread_csv\u001B[0m\u001B[0;34m(\u001B[0m\u001B[0;34m\"eif3a_full.csv\"\u001B[0m\u001B[0;34m)\u001B[0m\u001B[0;34m\u001B[0m\u001B[0;34m\u001B[0m\u001B[0m\n\u001B[0m\u001B[1;32m      5\u001B[0m \u001B[0mprint\u001B[0m\u001B[0;34m(\u001B[0m\u001B[0mdf\u001B[0m\u001B[0;34m)\u001B[0m\u001B[0;34m\u001B[0m\u001B[0;34m\u001B[0m\u001B[0m\n\u001B[1;32m      6\u001B[0m \u001B[0;34m\u001B[0m\u001B[0m\n",
      "\u001B[0;32m/anaconda3/envs/DL/lib/python3.7/site-packages/pandas/io/parsers.py\u001B[0m in \u001B[0;36mparser_f\u001B[0;34m(filepath_or_buffer, sep, delimiter, header, names, index_col, usecols, squeeze, prefix, mangle_dupe_cols, dtype, engine, converters, true_values, false_values, skipinitialspace, skiprows, skipfooter, nrows, na_values, keep_default_na, na_filter, verbose, skip_blank_lines, parse_dates, infer_datetime_format, keep_date_col, date_parser, dayfirst, cache_dates, iterator, chunksize, compression, thousands, decimal, lineterminator, quotechar, quoting, doublequote, escapechar, comment, encoding, dialect, error_bad_lines, warn_bad_lines, delim_whitespace, low_memory, memory_map, float_precision)\u001B[0m\n\u001B[1;32m    674\u001B[0m         )\n\u001B[1;32m    675\u001B[0m \u001B[0;34m\u001B[0m\u001B[0m\n\u001B[0;32m--> 676\u001B[0;31m         \u001B[0;32mreturn\u001B[0m \u001B[0m_read\u001B[0m\u001B[0;34m(\u001B[0m\u001B[0mfilepath_or_buffer\u001B[0m\u001B[0;34m,\u001B[0m \u001B[0mkwds\u001B[0m\u001B[0;34m)\u001B[0m\u001B[0;34m\u001B[0m\u001B[0;34m\u001B[0m\u001B[0m\n\u001B[0m\u001B[1;32m    677\u001B[0m \u001B[0;34m\u001B[0m\u001B[0m\n\u001B[1;32m    678\u001B[0m     \u001B[0mparser_f\u001B[0m\u001B[0;34m.\u001B[0m\u001B[0m__name__\u001B[0m \u001B[0;34m=\u001B[0m \u001B[0mname\u001B[0m\u001B[0;34m\u001B[0m\u001B[0;34m\u001B[0m\u001B[0m\n",
      "\u001B[0;32m/anaconda3/envs/DL/lib/python3.7/site-packages/pandas/io/parsers.py\u001B[0m in \u001B[0;36m_read\u001B[0;34m(filepath_or_buffer, kwds)\u001B[0m\n\u001B[1;32m    446\u001B[0m \u001B[0;34m\u001B[0m\u001B[0m\n\u001B[1;32m    447\u001B[0m     \u001B[0;31m# Create the parser.\u001B[0m\u001B[0;34m\u001B[0m\u001B[0;34m\u001B[0m\u001B[0;34m\u001B[0m\u001B[0m\n\u001B[0;32m--> 448\u001B[0;31m     \u001B[0mparser\u001B[0m \u001B[0;34m=\u001B[0m \u001B[0mTextFileReader\u001B[0m\u001B[0;34m(\u001B[0m\u001B[0mfp_or_buf\u001B[0m\u001B[0;34m,\u001B[0m \u001B[0;34m**\u001B[0m\u001B[0mkwds\u001B[0m\u001B[0;34m)\u001B[0m\u001B[0;34m\u001B[0m\u001B[0;34m\u001B[0m\u001B[0m\n\u001B[0m\u001B[1;32m    449\u001B[0m \u001B[0;34m\u001B[0m\u001B[0m\n\u001B[1;32m    450\u001B[0m     \u001B[0;32mif\u001B[0m \u001B[0mchunksize\u001B[0m \u001B[0;32mor\u001B[0m \u001B[0miterator\u001B[0m\u001B[0;34m:\u001B[0m\u001B[0;34m\u001B[0m\u001B[0;34m\u001B[0m\u001B[0m\n",
      "\u001B[0;32m/anaconda3/envs/DL/lib/python3.7/site-packages/pandas/io/parsers.py\u001B[0m in \u001B[0;36m__init__\u001B[0;34m(self, f, engine, **kwds)\u001B[0m\n\u001B[1;32m    878\u001B[0m             \u001B[0mself\u001B[0m\u001B[0;34m.\u001B[0m\u001B[0moptions\u001B[0m\u001B[0;34m[\u001B[0m\u001B[0;34m\"has_index_names\"\u001B[0m\u001B[0;34m]\u001B[0m \u001B[0;34m=\u001B[0m \u001B[0mkwds\u001B[0m\u001B[0;34m[\u001B[0m\u001B[0;34m\"has_index_names\"\u001B[0m\u001B[0;34m]\u001B[0m\u001B[0;34m\u001B[0m\u001B[0;34m\u001B[0m\u001B[0m\n\u001B[1;32m    879\u001B[0m \u001B[0;34m\u001B[0m\u001B[0m\n\u001B[0;32m--> 880\u001B[0;31m         \u001B[0mself\u001B[0m\u001B[0;34m.\u001B[0m\u001B[0m_make_engine\u001B[0m\u001B[0;34m(\u001B[0m\u001B[0mself\u001B[0m\u001B[0;34m.\u001B[0m\u001B[0mengine\u001B[0m\u001B[0;34m)\u001B[0m\u001B[0;34m\u001B[0m\u001B[0;34m\u001B[0m\u001B[0m\n\u001B[0m\u001B[1;32m    881\u001B[0m \u001B[0;34m\u001B[0m\u001B[0m\n\u001B[1;32m    882\u001B[0m     \u001B[0;32mdef\u001B[0m \u001B[0mclose\u001B[0m\u001B[0;34m(\u001B[0m\u001B[0mself\u001B[0m\u001B[0;34m)\u001B[0m\u001B[0;34m:\u001B[0m\u001B[0;34m\u001B[0m\u001B[0;34m\u001B[0m\u001B[0m\n",
      "\u001B[0;32m/anaconda3/envs/DL/lib/python3.7/site-packages/pandas/io/parsers.py\u001B[0m in \u001B[0;36m_make_engine\u001B[0;34m(self, engine)\u001B[0m\n\u001B[1;32m   1112\u001B[0m     \u001B[0;32mdef\u001B[0m \u001B[0m_make_engine\u001B[0m\u001B[0;34m(\u001B[0m\u001B[0mself\u001B[0m\u001B[0;34m,\u001B[0m \u001B[0mengine\u001B[0m\u001B[0;34m=\u001B[0m\u001B[0;34m\"c\"\u001B[0m\u001B[0;34m)\u001B[0m\u001B[0;34m:\u001B[0m\u001B[0;34m\u001B[0m\u001B[0;34m\u001B[0m\u001B[0m\n\u001B[1;32m   1113\u001B[0m         \u001B[0;32mif\u001B[0m \u001B[0mengine\u001B[0m \u001B[0;34m==\u001B[0m \u001B[0;34m\"c\"\u001B[0m\u001B[0;34m:\u001B[0m\u001B[0;34m\u001B[0m\u001B[0;34m\u001B[0m\u001B[0m\n\u001B[0;32m-> 1114\u001B[0;31m             \u001B[0mself\u001B[0m\u001B[0;34m.\u001B[0m\u001B[0m_engine\u001B[0m \u001B[0;34m=\u001B[0m \u001B[0mCParserWrapper\u001B[0m\u001B[0;34m(\u001B[0m\u001B[0mself\u001B[0m\u001B[0;34m.\u001B[0m\u001B[0mf\u001B[0m\u001B[0;34m,\u001B[0m \u001B[0;34m**\u001B[0m\u001B[0mself\u001B[0m\u001B[0;34m.\u001B[0m\u001B[0moptions\u001B[0m\u001B[0;34m)\u001B[0m\u001B[0;34m\u001B[0m\u001B[0;34m\u001B[0m\u001B[0m\n\u001B[0m\u001B[1;32m   1115\u001B[0m         \u001B[0;32melse\u001B[0m\u001B[0;34m:\u001B[0m\u001B[0;34m\u001B[0m\u001B[0;34m\u001B[0m\u001B[0m\n\u001B[1;32m   1116\u001B[0m             \u001B[0;32mif\u001B[0m \u001B[0mengine\u001B[0m \u001B[0;34m==\u001B[0m \u001B[0;34m\"python\"\u001B[0m\u001B[0;34m:\u001B[0m\u001B[0;34m\u001B[0m\u001B[0;34m\u001B[0m\u001B[0m\n",
      "\u001B[0;32m/anaconda3/envs/DL/lib/python3.7/site-packages/pandas/io/parsers.py\u001B[0m in \u001B[0;36m__init__\u001B[0;34m(self, src, **kwds)\u001B[0m\n\u001B[1;32m   1889\u001B[0m         \u001B[0mkwds\u001B[0m\u001B[0;34m[\u001B[0m\u001B[0;34m\"usecols\"\u001B[0m\u001B[0;34m]\u001B[0m \u001B[0;34m=\u001B[0m \u001B[0mself\u001B[0m\u001B[0;34m.\u001B[0m\u001B[0musecols\u001B[0m\u001B[0;34m\u001B[0m\u001B[0;34m\u001B[0m\u001B[0m\n\u001B[1;32m   1890\u001B[0m \u001B[0;34m\u001B[0m\u001B[0m\n\u001B[0;32m-> 1891\u001B[0;31m         \u001B[0mself\u001B[0m\u001B[0;34m.\u001B[0m\u001B[0m_reader\u001B[0m \u001B[0;34m=\u001B[0m \u001B[0mparsers\u001B[0m\u001B[0;34m.\u001B[0m\u001B[0mTextReader\u001B[0m\u001B[0;34m(\u001B[0m\u001B[0msrc\u001B[0m\u001B[0;34m,\u001B[0m \u001B[0;34m**\u001B[0m\u001B[0mkwds\u001B[0m\u001B[0;34m)\u001B[0m\u001B[0;34m\u001B[0m\u001B[0;34m\u001B[0m\u001B[0m\n\u001B[0m\u001B[1;32m   1892\u001B[0m         \u001B[0mself\u001B[0m\u001B[0;34m.\u001B[0m\u001B[0munnamed_cols\u001B[0m \u001B[0;34m=\u001B[0m \u001B[0mself\u001B[0m\u001B[0;34m.\u001B[0m\u001B[0m_reader\u001B[0m\u001B[0;34m.\u001B[0m\u001B[0munnamed_cols\u001B[0m\u001B[0;34m\u001B[0m\u001B[0;34m\u001B[0m\u001B[0m\n\u001B[1;32m   1893\u001B[0m \u001B[0;34m\u001B[0m\u001B[0m\n",
      "\u001B[0;32mpandas/_libs/parsers.pyx\u001B[0m in \u001B[0;36mpandas._libs.parsers.TextReader.__cinit__\u001B[0;34m()\u001B[0m\n",
      "\u001B[0;32mpandas/_libs/parsers.pyx\u001B[0m in \u001B[0;36mpandas._libs.parsers.TextReader._setup_parser_source\u001B[0;34m()\u001B[0m\n",
      "\u001B[0;31mFileNotFoundError\u001B[0m: [Errno 2] File eif3a_full.csv does not exist: 'eif3a_full.csv'"
     ]
    }
   ],
   "source": [
    "    import pandas as pd\n",
    "    import numpy as np\n",
    "\n",
    "    df = pd.read_csv(\"eif3a_full.csv\")\n",
    "    print(df)"
   ],
   "metadata": {
    "collapsed": false,
    "pycharm": {
     "name": "#%%\n"
    }
   }
  },
  {
   "cell_type": "code",
   "execution_count": 3,
   "outputs": [
    {
     "ename": "NameError",
     "evalue": "name 'df' is not defined",
     "output_type": "error",
     "traceback": [
      "\u001B[0;31m---------------------------------------------------------------------------\u001B[0m",
      "\u001B[0;31mNameError\u001B[0m                                 Traceback (most recent call last)",
      "\u001B[0;32m<ipython-input-3-fbc9a1f9e44c>\u001B[0m in \u001B[0;36m<module>\u001B[0;34m\u001B[0m\n\u001B[0;32m----> 1\u001B[0;31m \u001B[0mtrain_All_1\u001B[0m \u001B[0;34m=\u001B[0m \u001B[0mdf\u001B[0m\u001B[0;34m.\u001B[0m\u001B[0miloc\u001B[0m\u001B[0;34m[\u001B[0m\u001B[0;34m:\u001B[0m\u001B[0;34m,\u001B[0m \u001B[0;36m2\u001B[0m\u001B[0;34m]\u001B[0m\u001B[0;34m\u001B[0m\u001B[0;34m\u001B[0m\u001B[0m\n\u001B[0m\u001B[1;32m      2\u001B[0m \u001B[0mtest_all_1\u001B[0m \u001B[0;34m=\u001B[0m \u001B[0mdf\u001B[0m\u001B[0;34m.\u001B[0m\u001B[0miloc\u001B[0m\u001B[0;34m[\u001B[0m\u001B[0;34m:\u001B[0m\u001B[0;34m,\u001B[0m \u001B[0;36m3\u001B[0m\u001B[0;34m]\u001B[0m\u001B[0;34m\u001B[0m\u001B[0;34m\u001B[0m\u001B[0m\n\u001B[1;32m      3\u001B[0m \u001B[0;34m\u001B[0m\u001B[0m\n\u001B[1;32m      4\u001B[0m \u001B[0mpos_train_seq\u001B[0m \u001B[0;34m=\u001B[0m \u001B[0mtrain_All_1\u001B[0m\u001B[0;34m[\u001B[0m\u001B[0;36m0\u001B[0m\u001B[0;34m:\u001B[0m\u001B[0;36m711\u001B[0m\u001B[0;34m,\u001B[0m \u001B[0;34m]\u001B[0m\u001B[0;34m\u001B[0m\u001B[0;34m\u001B[0m\u001B[0m\n\u001B[1;32m      5\u001B[0m \u001B[0mneg_train_seq\u001B[0m \u001B[0;34m=\u001B[0m \u001B[0mtrain_All_1\u001B[0m\u001B[0;34m[\u001B[0m\u001B[0;36m711\u001B[0m\u001B[0;34m:\u001B[0m\u001B[0;34m,\u001B[0m \u001B[0;34m]\u001B[0m\u001B[0;34m\u001B[0m\u001B[0;34m\u001B[0m\u001B[0m\n",
      "\u001B[0;31mNameError\u001B[0m: name 'df' is not defined"
     ]
    }
   ],
   "source": [
    "    train_All_1 = df.iloc[:, 2]\n",
    "    test_all_1 = df.iloc[:, 3]\n",
    "\n",
    "    pos_train_seq = train_All_1[0:711, ]\n",
    "    neg_train_seq = train_All_1[711:, ]\n",
    "\n",
    "    pos_test_seq = test_all_1[0:45, ]\n",
    "    neg_test_seq = test_all_1[45:90, ]\n",
    "\n",
    "    lst = []\n",
    "    X_train = np.array(train_All_1)\n",
    "\n",
    "    for seq in X_train:\n",
    "        x = seq_to_mat(seq).tolist()\n",
    "        lst.extend(x)\n",
    "\n",
    "    X_train = np.array(lst)\n",
    "\n",
    "    lsts = []\n",
    "    X_test = np.array(test_all_1[0:90])\n",
    "\n",
    "    for seqs in X_test:\n",
    "        x = seq_to_mat(seqs).tolist()\n",
    "        lsts.extend(x)\n",
    "\n",
    "    X_test = np.array(lsts)\n",
    "\n",
    "    y_train = np.array([\"positive\", \"negative\"])\n",
    "    y_train = y_train.repeat(711)\n",
    "    y_train = np.mat(y_train).transpose()\n",
    "\n",
    "    y_test = np.array([\"positive\", \"negative\"])\n",
    "    y_test = y_test.repeat(45)\n",
    "    y_test = np.mat(y_test).transpose()\n",
    "\n",
    "\n",
    "    print(X_train)\n",
    "    print(y_train)\n",
    "    print(X_test)\n",
    "    print(y_test)\n",
    "\n",
    "\n",
    "    print(\"X_train\", X_train.shape)\n",
    "    print('X_test', X_test.shape)\n",
    "    print('y_test', y_test.shape)\n",
    "    print('y-train', y_train.shape)"
   ],
   "metadata": {
    "collapsed": false,
    "pycharm": {
     "name": "#%%\n"
    }
   }
  },
  {
   "cell_type": "code",
   "execution_count": null,
   "outputs": [],
   "source": [
    "# import the keras\n",
    "\n",
    "from keras.models import Sequential\n",
    "from keras.layers import Dense, Activation"
   ],
   "metadata": {
    "collapsed": false,
    "pycharm": {
     "name": "#%%\n"
    }
   }
  },
  {
   "cell_type": "code",
   "execution_count": null,
   "outputs": [],
   "source": [
    "# define the model\n",
    "model = Sequential()\n",
    "model.add(Dense(10, input_dim=X_train.shape, activation='relu', kernel_initializer='he_normal'))\n",
    "model.add(Dense(1, activation='sigmoid'))\n",
    "# compile the keras model\n",
    "model.compile(loss='binary_crossentropy', optimizer='adam', metrics=['accuracy'])\n",
    "\n",
    "print(model.summary())\n"
   ],
   "metadata": {
    "collapsed": false,
    "pycharm": {
     "name": "#%%\n"
    }
   }
  },
  {
   "cell_type": "code",
   "execution_count": null,
   "outputs": [],
   "source": [
    "print(X_train.shape)\n",
    "X_train.shape[1::]\n",
    "X_train.shape[1]"
   ],
   "metadata": {
    "collapsed": false,
    "pycharm": {
     "name": "#%%\n"
    }
   }
  },
  {
   "cell_type": "code",
   "execution_count": null,
   "outputs": [],
   "source": [
    "model.fit(X_train, y_train, epochs=100, batch_size=16, verbose=2)\n",
    "# evaluate the keras model"
   ],
   "metadata": {
    "collapsed": false,
    "pycharm": {
     "name": "#%%\n"
    }
   }
  },
  {
   "cell_type": "code",
   "execution_count": null,
   "outputs": [],
   "source": [
    "accuracy = model.evaluate(X_test, y_test, verbose=0)\n",
    "print('Accuracy: %.2f' % (accuracy*100))\n"
   ],
   "metadata": {
    "collapsed": false,
    "pycharm": {
     "name": "#%%\n"
    }
   }
  },
  {
   "cell_type": "code",
   "execution_count": null,
   "outputs": [],
   "source": [
    "x = \"TTAAGGCTTGTAAACATATAACATAAAAATGGCTTCCAAAA\"\n",
    "def convert_seq_to_bicoding(seq,wsize=101):\n",
    "    #return bicoding for a sequence\n",
    "    seq=seq.replace('U','T') #turn rna seq to dna seq if have\n",
    "    feat_bicoding=[]\n",
    "    bicoding_dict={'A':[1,0,0,0],'C':[0,1,0,0],'G':[0,0,1,0],'T':[0,0,0,1],'N':[0,0,0,0]}\n",
    "    if len(seq)<101:\n",
    "        seq=seq+'N'*(101-len(seq))\n",
    "    for each_nt in seq:\n",
    "        feat_bicoding+=bicoding_dict[each_nt]\n",
    "    return feat_bicoding\n",
    "\n",
    "\n"
   ],
   "metadata": {
    "collapsed": false,
    "pycharm": {
     "name": "#%%\n"
    }
   }
  }
 ],
 "metadata": {
  "kernelspec": {
   "display_name": "Python 3",
   "language": "python",
   "name": "python3"
  },
  "language_info": {
   "codemirror_mode": {
    "name": "ipython",
    "version": 2
   },
   "file_extension": ".py",
   "mimetype": "text/x-python",
   "name": "python",
   "nbconvert_exporter": "python",
   "pygments_lexer": "ipython2",
   "version": "2.7.6"
  }
 },
 "nbformat": 4,
 "nbformat_minor": 0
}